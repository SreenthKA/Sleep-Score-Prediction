{
 "cells": [
  {
   "cell_type": "markdown",
   "id": "6306deae",
   "metadata": {},
   "source": [
    "# DATA PREPROCESSING"
   ]
  },
  {
   "cell_type": "code",
   "execution_count": 180,
   "id": "8f7b7011",
   "metadata": {},
   "outputs": [],
   "source": [
    "import pandas as pd\n",
    "import matplotlib.pyplot as plt\n",
    "import numpy as np"
   ]
  },
  {
   "cell_type": "code",
   "execution_count": 181,
   "id": "58f98529",
   "metadata": {},
   "outputs": [],
   "source": [
    "sleep_stats_data = pd.read_csv(r\"D:\\SNU Chennai\\projects\\sleep score\\sleep_stats.csv\")\n",
    "sleep_score_data = pd.read_csv(r\"D:\\SNU Chennai\\projects\\sleep score\\sleep_score.csv\").iloc[:,:2]"
   ]
  },
  {
   "cell_type": "markdown",
   "id": "7e1e0d9c",
   "metadata": {},
   "source": [
    "i) preprocessing the sleep stats dataframe"
   ]
  },
  {
   "cell_type": "code",
   "execution_count": 182,
   "id": "3b25fef5",
   "metadata": {},
   "outputs": [
    {
     "data": {
      "text/html": [
       "<div>\n",
       "<style scoped>\n",
       "    .dataframe tbody tr th:only-of-type {\n",
       "        vertical-align: middle;\n",
       "    }\n",
       "\n",
       "    .dataframe tbody tr th {\n",
       "        vertical-align: top;\n",
       "    }\n",
       "\n",
       "    .dataframe thead th {\n",
       "        text-align: right;\n",
       "    }\n",
       "</style>\n",
       "<table border=\"1\" class=\"dataframe\">\n",
       "  <thead>\n",
       "    <tr style=\"text-align: right;\">\n",
       "      <th></th>\n",
       "      <th>Sleep</th>\n",
       "      <th>Unnamed: 1</th>\n",
       "      <th>Unnamed: 2</th>\n",
       "      <th>Unnamed: 3</th>\n",
       "      <th>Unnamed: 4</th>\n",
       "      <th>Unnamed: 5</th>\n",
       "      <th>Unnamed: 6</th>\n",
       "      <th>Unnamed: 7</th>\n",
       "      <th>Unnamed: 8</th>\n",
       "    </tr>\n",
       "  </thead>\n",
       "  <tbody>\n",
       "    <tr>\n",
       "      <th>0</th>\n",
       "      <td>Start Time</td>\n",
       "      <td>End Time</td>\n",
       "      <td>Minutes Asleep</td>\n",
       "      <td>Minutes Awake</td>\n",
       "      <td>Number of Awakenings</td>\n",
       "      <td>Time in Bed</td>\n",
       "      <td>Minutes REM Sleep</td>\n",
       "      <td>Minutes Light Sleep</td>\n",
       "      <td>Minutes Deep Sleep</td>\n",
       "    </tr>\n",
       "    <tr>\n",
       "      <th>1</th>\n",
       "      <td>2020-07-01 10:05PM</td>\n",
       "      <td>2020-07-02 6:23AM</td>\n",
       "      <td>456</td>\n",
       "      <td>42</td>\n",
       "      <td>37</td>\n",
       "      <td>498</td>\n",
       "      <td>94</td>\n",
       "      <td>271</td>\n",
       "      <td>91</td>\n",
       "    </tr>\n",
       "    <tr>\n",
       "      <th>2</th>\n",
       "      <td>2020-06-30 9:43PM</td>\n",
       "      <td>2020-07-01 6:03AM</td>\n",
       "      <td>412</td>\n",
       "      <td>88</td>\n",
       "      <td>32</td>\n",
       "      <td>500</td>\n",
       "      <td>79</td>\n",
       "      <td>208</td>\n",
       "      <td>125</td>\n",
       "    </tr>\n",
       "    <tr>\n",
       "      <th>3</th>\n",
       "      <td>2020-06-29 10:03PM</td>\n",
       "      <td>2020-06-30 5:57AM</td>\n",
       "      <td>412</td>\n",
       "      <td>61</td>\n",
       "      <td>26</td>\n",
       "      <td>473</td>\n",
       "      <td>91</td>\n",
       "      <td>242</td>\n",
       "      <td>79</td>\n",
       "    </tr>\n",
       "    <tr>\n",
       "      <th>4</th>\n",
       "      <td>2020-06-28 11:24PM</td>\n",
       "      <td>2020-06-29 6:05AM</td>\n",
       "      <td>342</td>\n",
       "      <td>59</td>\n",
       "      <td>26</td>\n",
       "      <td>401</td>\n",
       "      <td>71</td>\n",
       "      <td>196</td>\n",
       "      <td>75</td>\n",
       "    </tr>\n",
       "  </tbody>\n",
       "</table>\n",
       "</div>"
      ],
      "text/plain": [
       "                Sleep         Unnamed: 1      Unnamed: 2     Unnamed: 3  \\\n",
       "0          Start Time           End Time  Minutes Asleep  Minutes Awake   \n",
       "1  2020-07-01 10:05PM  2020-07-02 6:23AM             456             42   \n",
       "2   2020-06-30 9:43PM  2020-07-01 6:03AM             412             88   \n",
       "3  2020-06-29 10:03PM  2020-06-30 5:57AM             412             61   \n",
       "4  2020-06-28 11:24PM  2020-06-29 6:05AM             342             59   \n",
       "\n",
       "             Unnamed: 4   Unnamed: 5         Unnamed: 6           Unnamed: 7  \\\n",
       "0  Number of Awakenings  Time in Bed  Minutes REM Sleep  Minutes Light Sleep   \n",
       "1                    37          498                 94                  271   \n",
       "2                    32          500                 79                  208   \n",
       "3                    26          473                 91                  242   \n",
       "4                    26          401                 71                  196   \n",
       "\n",
       "           Unnamed: 8  \n",
       "0  Minutes Deep Sleep  \n",
       "1                  91  \n",
       "2                 125  \n",
       "3                  79  \n",
       "4                  75  "
      ]
     },
     "execution_count": 182,
     "metadata": {},
     "output_type": "execute_result"
    }
   ],
   "source": [
    "sleep_stats_data.head()"
   ]
  },
  {
   "cell_type": "code",
   "execution_count": 183,
   "id": "080409df",
   "metadata": {},
   "outputs": [
    {
     "data": {
      "text/html": [
       "<div>\n",
       "<style scoped>\n",
       "    .dataframe tbody tr th:only-of-type {\n",
       "        vertical-align: middle;\n",
       "    }\n",
       "\n",
       "    .dataframe tbody tr th {\n",
       "        vertical-align: top;\n",
       "    }\n",
       "\n",
       "    .dataframe thead th {\n",
       "        text-align: right;\n",
       "    }\n",
       "</style>\n",
       "<table border=\"1\" class=\"dataframe\">\n",
       "  <thead>\n",
       "    <tr style=\"text-align: right;\">\n",
       "      <th></th>\n",
       "      <th>Start Time</th>\n",
       "      <th>End Time</th>\n",
       "      <th>Minutes Asleep</th>\n",
       "      <th>Minutes Awake</th>\n",
       "      <th>Number of Awakenings</th>\n",
       "      <th>Time in Bed</th>\n",
       "      <th>Minutes REM Sleep</th>\n",
       "      <th>Minutes Light Sleep</th>\n",
       "      <th>Minutes Deep Sleep</th>\n",
       "    </tr>\n",
       "  </thead>\n",
       "  <tbody>\n",
       "    <tr>\n",
       "      <th>1</th>\n",
       "      <td>2020-07-01 10:05PM</td>\n",
       "      <td>2020-07-02 6:23AM</td>\n",
       "      <td>456</td>\n",
       "      <td>42</td>\n",
       "      <td>37</td>\n",
       "      <td>498</td>\n",
       "      <td>94</td>\n",
       "      <td>271</td>\n",
       "      <td>91</td>\n",
       "    </tr>\n",
       "    <tr>\n",
       "      <th>2</th>\n",
       "      <td>2020-06-30 9:43PM</td>\n",
       "      <td>2020-07-01 6:03AM</td>\n",
       "      <td>412</td>\n",
       "      <td>88</td>\n",
       "      <td>32</td>\n",
       "      <td>500</td>\n",
       "      <td>79</td>\n",
       "      <td>208</td>\n",
       "      <td>125</td>\n",
       "    </tr>\n",
       "    <tr>\n",
       "      <th>3</th>\n",
       "      <td>2020-06-29 10:03PM</td>\n",
       "      <td>2020-06-30 5:57AM</td>\n",
       "      <td>412</td>\n",
       "      <td>61</td>\n",
       "      <td>26</td>\n",
       "      <td>473</td>\n",
       "      <td>91</td>\n",
       "      <td>242</td>\n",
       "      <td>79</td>\n",
       "    </tr>\n",
       "    <tr>\n",
       "      <th>4</th>\n",
       "      <td>2020-06-28 11:24PM</td>\n",
       "      <td>2020-06-29 6:05AM</td>\n",
       "      <td>342</td>\n",
       "      <td>59</td>\n",
       "      <td>26</td>\n",
       "      <td>401</td>\n",
       "      <td>71</td>\n",
       "      <td>196</td>\n",
       "      <td>75</td>\n",
       "    </tr>\n",
       "    <tr>\n",
       "      <th>5</th>\n",
       "      <td>2020-06-27 10:42PM</td>\n",
       "      <td>2020-06-28 9:20AM</td>\n",
       "      <td>530</td>\n",
       "      <td>108</td>\n",
       "      <td>39</td>\n",
       "      <td>638</td>\n",
       "      <td>98</td>\n",
       "      <td>305</td>\n",
       "      <td>127</td>\n",
       "    </tr>\n",
       "    <tr>\n",
       "      <th>...</th>\n",
       "      <td>...</td>\n",
       "      <td>...</td>\n",
       "      <td>...</td>\n",
       "      <td>...</td>\n",
       "      <td>...</td>\n",
       "      <td>...</td>\n",
       "      <td>...</td>\n",
       "      <td>...</td>\n",
       "      <td>...</td>\n",
       "    </tr>\n",
       "    <tr>\n",
       "      <th>318</th>\n",
       "      <td>2019-07-12 11:11PM</td>\n",
       "      <td>2019-07-13 7:05AM</td>\n",
       "      <td>423</td>\n",
       "      <td>51</td>\n",
       "      <td>28</td>\n",
       "      <td>474</td>\n",
       "      <td>89</td>\n",
       "      <td>263</td>\n",
       "      <td>71</td>\n",
       "    </tr>\n",
       "    <tr>\n",
       "      <th>319</th>\n",
       "      <td>2019-07-11 9:58PM</td>\n",
       "      <td>2019-07-12 8:23AM</td>\n",
       "      <td>540</td>\n",
       "      <td>85</td>\n",
       "      <td>30</td>\n",
       "      <td>625</td>\n",
       "      <td>114</td>\n",
       "      <td>324</td>\n",
       "      <td>102</td>\n",
       "    </tr>\n",
       "    <tr>\n",
       "      <th>320</th>\n",
       "      <td>2019-07-10 9:43PM</td>\n",
       "      <td>2019-07-11 7:32AM</td>\n",
       "      <td>525</td>\n",
       "      <td>64</td>\n",
       "      <td>31</td>\n",
       "      <td>589</td>\n",
       "      <td>93</td>\n",
       "      <td>322</td>\n",
       "      <td>110</td>\n",
       "    </tr>\n",
       "    <tr>\n",
       "      <th>321</th>\n",
       "      <td>2019-07-09 9:12PM</td>\n",
       "      <td>2019-07-10 7:31AM</td>\n",
       "      <td>536</td>\n",
       "      <td>83</td>\n",
       "      <td>38</td>\n",
       "      <td>619</td>\n",
       "      <td>124</td>\n",
       "      <td>336</td>\n",
       "      <td>76</td>\n",
       "    </tr>\n",
       "    <tr>\n",
       "      <th>322</th>\n",
       "      <td>2019-07-07 10:53PM</td>\n",
       "      <td>2019-07-08 5:42AM</td>\n",
       "      <td>372</td>\n",
       "      <td>36</td>\n",
       "      <td>29</td>\n",
       "      <td>408</td>\n",
       "      <td>84</td>\n",
       "      <td>245</td>\n",
       "      <td>43</td>\n",
       "    </tr>\n",
       "  </tbody>\n",
       "</table>\n",
       "<p>322 rows × 9 columns</p>\n",
       "</div>"
      ],
      "text/plain": [
       "0            Start Time           End Time Minutes Asleep Minutes Awake  \\\n",
       "1    2020-07-01 10:05PM  2020-07-02 6:23AM            456            42   \n",
       "2     2020-06-30 9:43PM  2020-07-01 6:03AM            412            88   \n",
       "3    2020-06-29 10:03PM  2020-06-30 5:57AM            412            61   \n",
       "4    2020-06-28 11:24PM  2020-06-29 6:05AM            342            59   \n",
       "5    2020-06-27 10:42PM  2020-06-28 9:20AM            530           108   \n",
       "..                  ...                ...            ...           ...   \n",
       "318  2019-07-12 11:11PM  2019-07-13 7:05AM            423            51   \n",
       "319   2019-07-11 9:58PM  2019-07-12 8:23AM            540            85   \n",
       "320   2019-07-10 9:43PM  2019-07-11 7:32AM            525            64   \n",
       "321   2019-07-09 9:12PM  2019-07-10 7:31AM            536            83   \n",
       "322  2019-07-07 10:53PM  2019-07-08 5:42AM            372            36   \n",
       "\n",
       "0   Number of Awakenings Time in Bed Minutes REM Sleep Minutes Light Sleep  \\\n",
       "1                     37         498                94                 271   \n",
       "2                     32         500                79                 208   \n",
       "3                     26         473                91                 242   \n",
       "4                     26         401                71                 196   \n",
       "5                     39         638                98                 305   \n",
       "..                   ...         ...               ...                 ...   \n",
       "318                   28         474                89                 263   \n",
       "319                   30         625               114                 324   \n",
       "320                   31         589                93                 322   \n",
       "321                   38         619               124                 336   \n",
       "322                   29         408                84                 245   \n",
       "\n",
       "0   Minutes Deep Sleep  \n",
       "1                   91  \n",
       "2                  125  \n",
       "3                   79  \n",
       "4                   75  \n",
       "5                  127  \n",
       "..                 ...  \n",
       "318                 71  \n",
       "319                102  \n",
       "320                110  \n",
       "321                 76  \n",
       "322                 43  \n",
       "\n",
       "[322 rows x 9 columns]"
      ]
     },
     "execution_count": 183,
     "metadata": {},
     "output_type": "execute_result"
    }
   ],
   "source": [
    "sleep_stats_data.columns = sleep_stats_data.iloc[0]\n",
    "sleep_stats_data.drop(sleep_stats_data.index[0], inplace=True)\n",
    "sleep_stats_data"
   ]
  },
  {
   "cell_type": "code",
   "execution_count": 184,
   "id": "f636a677",
   "metadata": {},
   "outputs": [
    {
     "name": "stdout",
     "output_type": "stream",
     "text": [
      "<class 'pandas.core.frame.DataFrame'>\n",
      "RangeIndex: 322 entries, 1 to 322\n",
      "Data columns (total 9 columns):\n",
      " #   Column                Non-Null Count  Dtype \n",
      "---  ------                --------------  ----- \n",
      " 0   Start Time            322 non-null    object\n",
      " 1   End Time              322 non-null    object\n",
      " 2   Minutes Asleep        322 non-null    object\n",
      " 3   Minutes Awake         322 non-null    object\n",
      " 4   Number of Awakenings  322 non-null    object\n",
      " 5   Time in Bed           322 non-null    object\n",
      " 6   Minutes REM Sleep     287 non-null    object\n",
      " 7   Minutes Light Sleep   287 non-null    object\n",
      " 8   Minutes Deep Sleep    287 non-null    object\n",
      "dtypes: object(9)\n",
      "memory usage: 22.8+ KB\n"
     ]
    }
   ],
   "source": [
    "sleep_stats_data.info()"
   ]
  },
  {
   "cell_type": "code",
   "execution_count": 185,
   "id": "aaff8689",
   "metadata": {},
   "outputs": [
    {
     "data": {
      "text/html": [
       "<div>\n",
       "<style scoped>\n",
       "    .dataframe tbody tr th:only-of-type {\n",
       "        vertical-align: middle;\n",
       "    }\n",
       "\n",
       "    .dataframe tbody tr th {\n",
       "        vertical-align: top;\n",
       "    }\n",
       "\n",
       "    .dataframe thead th {\n",
       "        text-align: right;\n",
       "    }\n",
       "</style>\n",
       "<table border=\"1\" class=\"dataframe\">\n",
       "  <thead>\n",
       "    <tr style=\"text-align: right;\">\n",
       "      <th></th>\n",
       "      <th>Start Time</th>\n",
       "      <th>End Time</th>\n",
       "      <th>Minutes Asleep</th>\n",
       "      <th>Minutes Awake</th>\n",
       "      <th>Number of Awakenings</th>\n",
       "      <th>Time in Bed</th>\n",
       "      <th>Minutes REM Sleep</th>\n",
       "      <th>Minutes Light Sleep</th>\n",
       "      <th>Minutes Deep Sleep</th>\n",
       "    </tr>\n",
       "  </thead>\n",
       "  <tbody>\n",
       "    <tr>\n",
       "      <th>77</th>\n",
       "      <td>2020-04-16 2:09PM</td>\n",
       "      <td>2020-04-16 3:27PM</td>\n",
       "      <td>76</td>\n",
       "      <td>2</td>\n",
       "      <td>0</td>\n",
       "      <td>78</td>\n",
       "      <td>NaN</td>\n",
       "      <td>NaN</td>\n",
       "      <td>NaN</td>\n",
       "    </tr>\n",
       "    <tr>\n",
       "      <th>103</th>\n",
       "      <td>2020-03-22 1:47PM</td>\n",
       "      <td>2020-03-22 3:21PM</td>\n",
       "      <td>83</td>\n",
       "      <td>1</td>\n",
       "      <td>1</td>\n",
       "      <td>93</td>\n",
       "      <td>NaN</td>\n",
       "      <td>NaN</td>\n",
       "      <td>NaN</td>\n",
       "    </tr>\n",
       "    <tr>\n",
       "      <th>115</th>\n",
       "      <td>2020-03-11 4:19PM</td>\n",
       "      <td>2020-03-11 5:24PM</td>\n",
       "      <td>55</td>\n",
       "      <td>6</td>\n",
       "      <td>1</td>\n",
       "      <td>65</td>\n",
       "      <td>NaN</td>\n",
       "      <td>NaN</td>\n",
       "      <td>NaN</td>\n",
       "    </tr>\n",
       "    <tr>\n",
       "      <th>121</th>\n",
       "      <td>2020-03-06 3:40PM</td>\n",
       "      <td>2020-03-06 4:40PM</td>\n",
       "      <td>53</td>\n",
       "      <td>7</td>\n",
       "      <td>0</td>\n",
       "      <td>60</td>\n",
       "      <td>NaN</td>\n",
       "      <td>NaN</td>\n",
       "      <td>NaN</td>\n",
       "    </tr>\n",
       "    <tr>\n",
       "      <th>134</th>\n",
       "      <td>2020-02-23 2:28PM</td>\n",
       "      <td>2020-02-23 3:42PM</td>\n",
       "      <td>68</td>\n",
       "      <td>5</td>\n",
       "      <td>0</td>\n",
       "      <td>74</td>\n",
       "      <td>NaN</td>\n",
       "      <td>NaN</td>\n",
       "      <td>NaN</td>\n",
       "    </tr>\n",
       "    <tr>\n",
       "      <th>142</th>\n",
       "      <td>2020-02-16 10:23AM</td>\n",
       "      <td>2020-02-16 12:09PM</td>\n",
       "      <td>98</td>\n",
       "      <td>7</td>\n",
       "      <td>0</td>\n",
       "      <td>106</td>\n",
       "      <td>NaN</td>\n",
       "      <td>NaN</td>\n",
       "      <td>NaN</td>\n",
       "    </tr>\n",
       "    <tr>\n",
       "      <th>145</th>\n",
       "      <td>2020-02-06 11:17PM</td>\n",
       "      <td>2020-02-07 1:30AM</td>\n",
       "      <td>128</td>\n",
       "      <td>4</td>\n",
       "      <td>0</td>\n",
       "      <td>132</td>\n",
       "      <td>NaN</td>\n",
       "      <td>NaN</td>\n",
       "      <td>NaN</td>\n",
       "    </tr>\n",
       "    <tr>\n",
       "      <th>146</th>\n",
       "      <td>2020-02-06 4:38AM</td>\n",
       "      <td>2020-02-06 9:24AM</td>\n",
       "      <td>262</td>\n",
       "      <td>19</td>\n",
       "      <td>0</td>\n",
       "      <td>285</td>\n",
       "      <td>NaN</td>\n",
       "      <td>NaN</td>\n",
       "      <td>NaN</td>\n",
       "    </tr>\n",
       "    <tr>\n",
       "      <th>148</th>\n",
       "      <td>2020-02-04 11:24PM</td>\n",
       "      <td>2020-02-05 8:14AM</td>\n",
       "      <td>498</td>\n",
       "      <td>32</td>\n",
       "      <td>4</td>\n",
       "      <td>530</td>\n",
       "      <td>NaN</td>\n",
       "      <td>NaN</td>\n",
       "      <td>NaN</td>\n",
       "    </tr>\n",
       "    <tr>\n",
       "      <th>151</th>\n",
       "      <td>2020-02-01 11:11PM</td>\n",
       "      <td>2020-02-02 7:06AM</td>\n",
       "      <td>449</td>\n",
       "      <td>26</td>\n",
       "      <td>2</td>\n",
       "      <td>475</td>\n",
       "      <td>NaN</td>\n",
       "      <td>NaN</td>\n",
       "      <td>NaN</td>\n",
       "    </tr>\n",
       "    <tr>\n",
       "      <th>153</th>\n",
       "      <td>2020-01-30 11:32PM</td>\n",
       "      <td>2020-01-31 7:01AM</td>\n",
       "      <td>417</td>\n",
       "      <td>31</td>\n",
       "      <td>1</td>\n",
       "      <td>449</td>\n",
       "      <td>NaN</td>\n",
       "      <td>NaN</td>\n",
       "      <td>NaN</td>\n",
       "    </tr>\n",
       "    <tr>\n",
       "      <th>154</th>\n",
       "      <td>2020-01-29 10:24PM</td>\n",
       "      <td>2020-01-30 9:08AM</td>\n",
       "      <td>562</td>\n",
       "      <td>81</td>\n",
       "      <td>3</td>\n",
       "      <td>643</td>\n",
       "      <td>NaN</td>\n",
       "      <td>NaN</td>\n",
       "      <td>NaN</td>\n",
       "    </tr>\n",
       "    <tr>\n",
       "      <th>156</th>\n",
       "      <td>2020-01-27 9:33PM</td>\n",
       "      <td>2020-01-28 6:42AM</td>\n",
       "      <td>508</td>\n",
       "      <td>40</td>\n",
       "      <td>3</td>\n",
       "      <td>548</td>\n",
       "      <td>NaN</td>\n",
       "      <td>NaN</td>\n",
       "      <td>NaN</td>\n",
       "    </tr>\n",
       "    <tr>\n",
       "      <th>157</th>\n",
       "      <td>2020-01-25 10:07PM</td>\n",
       "      <td>2020-01-26 7:01AM</td>\n",
       "      <td>491</td>\n",
       "      <td>35</td>\n",
       "      <td>2</td>\n",
       "      <td>534</td>\n",
       "      <td>NaN</td>\n",
       "      <td>NaN</td>\n",
       "      <td>NaN</td>\n",
       "    </tr>\n",
       "    <tr>\n",
       "      <th>158</th>\n",
       "      <td>2020-01-24 11:14PM</td>\n",
       "      <td>2020-01-25 1:26AM</td>\n",
       "      <td>110</td>\n",
       "      <td>22</td>\n",
       "      <td>1</td>\n",
       "      <td>132</td>\n",
       "      <td>NaN</td>\n",
       "      <td>NaN</td>\n",
       "      <td>NaN</td>\n",
       "    </tr>\n",
       "    <tr>\n",
       "      <th>159</th>\n",
       "      <td>2020-01-23 10:45PM</td>\n",
       "      <td>2020-01-24 6:46AM</td>\n",
       "      <td>456</td>\n",
       "      <td>25</td>\n",
       "      <td>1</td>\n",
       "      <td>481</td>\n",
       "      <td>NaN</td>\n",
       "      <td>NaN</td>\n",
       "      <td>NaN</td>\n",
       "    </tr>\n",
       "    <tr>\n",
       "      <th>160</th>\n",
       "      <td>2020-01-22 10:59PM</td>\n",
       "      <td>2020-01-23 7:23AM</td>\n",
       "      <td>487</td>\n",
       "      <td>17</td>\n",
       "      <td>2</td>\n",
       "      <td>504</td>\n",
       "      <td>NaN</td>\n",
       "      <td>NaN</td>\n",
       "      <td>NaN</td>\n",
       "    </tr>\n",
       "    <tr>\n",
       "      <th>162</th>\n",
       "      <td>2020-01-20 10:25PM</td>\n",
       "      <td>2020-01-21 7:06AM</td>\n",
       "      <td>502</td>\n",
       "      <td>19</td>\n",
       "      <td>2</td>\n",
       "      <td>521</td>\n",
       "      <td>NaN</td>\n",
       "      <td>NaN</td>\n",
       "      <td>NaN</td>\n",
       "    </tr>\n",
       "    <tr>\n",
       "      <th>164</th>\n",
       "      <td>2020-01-18 4:23PM</td>\n",
       "      <td>2020-01-18 6:12PM</td>\n",
       "      <td>105</td>\n",
       "      <td>4</td>\n",
       "      <td>0</td>\n",
       "      <td>109</td>\n",
       "      <td>NaN</td>\n",
       "      <td>NaN</td>\n",
       "      <td>NaN</td>\n",
       "    </tr>\n",
       "    <tr>\n",
       "      <th>166</th>\n",
       "      <td>2020-01-17 12:05AM</td>\n",
       "      <td>2020-01-17 6:59AM</td>\n",
       "      <td>382</td>\n",
       "      <td>31</td>\n",
       "      <td>2</td>\n",
       "      <td>413</td>\n",
       "      <td>NaN</td>\n",
       "      <td>NaN</td>\n",
       "      <td>NaN</td>\n",
       "    </tr>\n",
       "    <tr>\n",
       "      <th>167</th>\n",
       "      <td>2020-01-16 12:01AM</td>\n",
       "      <td>2020-01-16 10:16AM</td>\n",
       "      <td>599</td>\n",
       "      <td>16</td>\n",
       "      <td>1</td>\n",
       "      <td>615</td>\n",
       "      <td>NaN</td>\n",
       "      <td>NaN</td>\n",
       "      <td>NaN</td>\n",
       "    </tr>\n",
       "    <tr>\n",
       "      <th>171</th>\n",
       "      <td>2020-01-09 7:28AM</td>\n",
       "      <td>2020-01-09 9:08AM</td>\n",
       "      <td>90</td>\n",
       "      <td>9</td>\n",
       "      <td>0</td>\n",
       "      <td>99</td>\n",
       "      <td>NaN</td>\n",
       "      <td>NaN</td>\n",
       "      <td>NaN</td>\n",
       "    </tr>\n",
       "    <tr>\n",
       "      <th>172</th>\n",
       "      <td>2020-01-06 9:26PM</td>\n",
       "      <td>2020-01-07 12:18AM</td>\n",
       "      <td>168</td>\n",
       "      <td>3</td>\n",
       "      <td>1</td>\n",
       "      <td>172</td>\n",
       "      <td>NaN</td>\n",
       "      <td>NaN</td>\n",
       "      <td>NaN</td>\n",
       "    </tr>\n",
       "    <tr>\n",
       "      <th>177</th>\n",
       "      <td>2019-12-28 11:44AM</td>\n",
       "      <td>2019-12-28 1:49PM</td>\n",
       "      <td>120</td>\n",
       "      <td>5</td>\n",
       "      <td>0</td>\n",
       "      <td>125</td>\n",
       "      <td>NaN</td>\n",
       "      <td>NaN</td>\n",
       "      <td>NaN</td>\n",
       "    </tr>\n",
       "    <tr>\n",
       "      <th>181</th>\n",
       "      <td>2019-12-25 2:33PM</td>\n",
       "      <td>2019-12-25 4:06PM</td>\n",
       "      <td>89</td>\n",
       "      <td>4</td>\n",
       "      <td>1</td>\n",
       "      <td>93</td>\n",
       "      <td>NaN</td>\n",
       "      <td>NaN</td>\n",
       "      <td>NaN</td>\n",
       "    </tr>\n",
       "    <tr>\n",
       "      <th>190</th>\n",
       "      <td>2019-12-16 12:44AM</td>\n",
       "      <td>2019-12-16 8:58AM</td>\n",
       "      <td>463</td>\n",
       "      <td>30</td>\n",
       "      <td>3</td>\n",
       "      <td>494</td>\n",
       "      <td>NaN</td>\n",
       "      <td>NaN</td>\n",
       "      <td>NaN</td>\n",
       "    </tr>\n",
       "    <tr>\n",
       "      <th>195</th>\n",
       "      <td>2019-12-09 9:57PM</td>\n",
       "      <td>2019-12-10 8:10AM</td>\n",
       "      <td>580</td>\n",
       "      <td>33</td>\n",
       "      <td>1</td>\n",
       "      <td>613</td>\n",
       "      <td>NaN</td>\n",
       "      <td>NaN</td>\n",
       "      <td>NaN</td>\n",
       "    </tr>\n",
       "    <tr>\n",
       "      <th>196</th>\n",
       "      <td>2019-12-08 10:03PM</td>\n",
       "      <td>2019-12-09 7:32AM</td>\n",
       "      <td>528</td>\n",
       "      <td>41</td>\n",
       "      <td>4</td>\n",
       "      <td>569</td>\n",
       "      <td>NaN</td>\n",
       "      <td>NaN</td>\n",
       "      <td>NaN</td>\n",
       "    </tr>\n",
       "    <tr>\n",
       "      <th>215</th>\n",
       "      <td>2019-11-18 10:10PM</td>\n",
       "      <td>2019-11-19 6:40AM</td>\n",
       "      <td>452</td>\n",
       "      <td>58</td>\n",
       "      <td>1</td>\n",
       "      <td>510</td>\n",
       "      <td>NaN</td>\n",
       "      <td>NaN</td>\n",
       "      <td>NaN</td>\n",
       "    </tr>\n",
       "    <tr>\n",
       "      <th>239</th>\n",
       "      <td>2019-10-04 9:21AM</td>\n",
       "      <td>2019-10-04 10:48AM</td>\n",
       "      <td>80</td>\n",
       "      <td>5</td>\n",
       "      <td>0</td>\n",
       "      <td>86</td>\n",
       "      <td>NaN</td>\n",
       "      <td>NaN</td>\n",
       "      <td>NaN</td>\n",
       "    </tr>\n",
       "    <tr>\n",
       "      <th>241</th>\n",
       "      <td>2019-10-03 1:56PM</td>\n",
       "      <td>2019-10-03 3:20PM</td>\n",
       "      <td>74</td>\n",
       "      <td>4</td>\n",
       "      <td>0</td>\n",
       "      <td>84</td>\n",
       "      <td>NaN</td>\n",
       "      <td>NaN</td>\n",
       "      <td>NaN</td>\n",
       "    </tr>\n",
       "    <tr>\n",
       "      <th>269</th>\n",
       "      <td>2019-09-04 2:15PM</td>\n",
       "      <td>2019-09-04 4:24PM</td>\n",
       "      <td>123</td>\n",
       "      <td>6</td>\n",
       "      <td>0</td>\n",
       "      <td>129</td>\n",
       "      <td>NaN</td>\n",
       "      <td>NaN</td>\n",
       "      <td>NaN</td>\n",
       "    </tr>\n",
       "    <tr>\n",
       "      <th>280</th>\n",
       "      <td>2019-08-24 10:36PM</td>\n",
       "      <td>2019-08-25 8:09AM</td>\n",
       "      <td>561</td>\n",
       "      <td>12</td>\n",
       "      <td>0</td>\n",
       "      <td>573</td>\n",
       "      <td>NaN</td>\n",
       "      <td>NaN</td>\n",
       "      <td>NaN</td>\n",
       "    </tr>\n",
       "    <tr>\n",
       "      <th>294</th>\n",
       "      <td>2019-08-08 9:25PM</td>\n",
       "      <td>2019-08-09 4:17AM</td>\n",
       "      <td>394</td>\n",
       "      <td>18</td>\n",
       "      <td>2</td>\n",
       "      <td>412</td>\n",
       "      <td>NaN</td>\n",
       "      <td>NaN</td>\n",
       "      <td>NaN</td>\n",
       "    </tr>\n",
       "    <tr>\n",
       "      <th>304</th>\n",
       "      <td>2019-07-29 3:36PM</td>\n",
       "      <td>2019-07-29 4:57PM</td>\n",
       "      <td>77</td>\n",
       "      <td>4</td>\n",
       "      <td>0</td>\n",
       "      <td>81</td>\n",
       "      <td>NaN</td>\n",
       "      <td>NaN</td>\n",
       "      <td>NaN</td>\n",
       "    </tr>\n",
       "  </tbody>\n",
       "</table>\n",
       "</div>"
      ],
      "text/plain": [
       "0            Start Time            End Time Minutes Asleep Minutes Awake  \\\n",
       "77    2020-04-16 2:09PM   2020-04-16 3:27PM             76             2   \n",
       "103   2020-03-22 1:47PM   2020-03-22 3:21PM             83             1   \n",
       "115   2020-03-11 4:19PM   2020-03-11 5:24PM             55             6   \n",
       "121   2020-03-06 3:40PM   2020-03-06 4:40PM             53             7   \n",
       "134   2020-02-23 2:28PM   2020-02-23 3:42PM             68             5   \n",
       "142  2020-02-16 10:23AM  2020-02-16 12:09PM             98             7   \n",
       "145  2020-02-06 11:17PM   2020-02-07 1:30AM            128             4   \n",
       "146   2020-02-06 4:38AM   2020-02-06 9:24AM            262            19   \n",
       "148  2020-02-04 11:24PM   2020-02-05 8:14AM            498            32   \n",
       "151  2020-02-01 11:11PM   2020-02-02 7:06AM            449            26   \n",
       "153  2020-01-30 11:32PM   2020-01-31 7:01AM            417            31   \n",
       "154  2020-01-29 10:24PM   2020-01-30 9:08AM            562            81   \n",
       "156   2020-01-27 9:33PM   2020-01-28 6:42AM            508            40   \n",
       "157  2020-01-25 10:07PM   2020-01-26 7:01AM            491            35   \n",
       "158  2020-01-24 11:14PM   2020-01-25 1:26AM            110            22   \n",
       "159  2020-01-23 10:45PM   2020-01-24 6:46AM            456            25   \n",
       "160  2020-01-22 10:59PM   2020-01-23 7:23AM            487            17   \n",
       "162  2020-01-20 10:25PM   2020-01-21 7:06AM            502            19   \n",
       "164   2020-01-18 4:23PM   2020-01-18 6:12PM            105             4   \n",
       "166  2020-01-17 12:05AM   2020-01-17 6:59AM            382            31   \n",
       "167  2020-01-16 12:01AM  2020-01-16 10:16AM            599            16   \n",
       "171   2020-01-09 7:28AM   2020-01-09 9:08AM             90             9   \n",
       "172   2020-01-06 9:26PM  2020-01-07 12:18AM            168             3   \n",
       "177  2019-12-28 11:44AM   2019-12-28 1:49PM            120             5   \n",
       "181   2019-12-25 2:33PM   2019-12-25 4:06PM             89             4   \n",
       "190  2019-12-16 12:44AM   2019-12-16 8:58AM            463            30   \n",
       "195   2019-12-09 9:57PM   2019-12-10 8:10AM            580            33   \n",
       "196  2019-12-08 10:03PM   2019-12-09 7:32AM            528            41   \n",
       "215  2019-11-18 10:10PM   2019-11-19 6:40AM            452            58   \n",
       "239   2019-10-04 9:21AM  2019-10-04 10:48AM             80             5   \n",
       "241   2019-10-03 1:56PM   2019-10-03 3:20PM             74             4   \n",
       "269   2019-09-04 2:15PM   2019-09-04 4:24PM            123             6   \n",
       "280  2019-08-24 10:36PM   2019-08-25 8:09AM            561            12   \n",
       "294   2019-08-08 9:25PM   2019-08-09 4:17AM            394            18   \n",
       "304   2019-07-29 3:36PM   2019-07-29 4:57PM             77             4   \n",
       "\n",
       "0   Number of Awakenings Time in Bed Minutes REM Sleep Minutes Light Sleep  \\\n",
       "77                     0          78               NaN                 NaN   \n",
       "103                    1          93               NaN                 NaN   \n",
       "115                    1          65               NaN                 NaN   \n",
       "121                    0          60               NaN                 NaN   \n",
       "134                    0          74               NaN                 NaN   \n",
       "142                    0         106               NaN                 NaN   \n",
       "145                    0         132               NaN                 NaN   \n",
       "146                    0         285               NaN                 NaN   \n",
       "148                    4         530               NaN                 NaN   \n",
       "151                    2         475               NaN                 NaN   \n",
       "153                    1         449               NaN                 NaN   \n",
       "154                    3         643               NaN                 NaN   \n",
       "156                    3         548               NaN                 NaN   \n",
       "157                    2         534               NaN                 NaN   \n",
       "158                    1         132               NaN                 NaN   \n",
       "159                    1         481               NaN                 NaN   \n",
       "160                    2         504               NaN                 NaN   \n",
       "162                    2         521               NaN                 NaN   \n",
       "164                    0         109               NaN                 NaN   \n",
       "166                    2         413               NaN                 NaN   \n",
       "167                    1         615               NaN                 NaN   \n",
       "171                    0          99               NaN                 NaN   \n",
       "172                    1         172               NaN                 NaN   \n",
       "177                    0         125               NaN                 NaN   \n",
       "181                    1          93               NaN                 NaN   \n",
       "190                    3         494               NaN                 NaN   \n",
       "195                    1         613               NaN                 NaN   \n",
       "196                    4         569               NaN                 NaN   \n",
       "215                    1         510               NaN                 NaN   \n",
       "239                    0          86               NaN                 NaN   \n",
       "241                    0          84               NaN                 NaN   \n",
       "269                    0         129               NaN                 NaN   \n",
       "280                    0         573               NaN                 NaN   \n",
       "294                    2         412               NaN                 NaN   \n",
       "304                    0          81               NaN                 NaN   \n",
       "\n",
       "0   Minutes Deep Sleep  \n",
       "77                 NaN  \n",
       "103                NaN  \n",
       "115                NaN  \n",
       "121                NaN  \n",
       "134                NaN  \n",
       "142                NaN  \n",
       "145                NaN  \n",
       "146                NaN  \n",
       "148                NaN  \n",
       "151                NaN  \n",
       "153                NaN  \n",
       "154                NaN  \n",
       "156                NaN  \n",
       "157                NaN  \n",
       "158                NaN  \n",
       "159                NaN  \n",
       "160                NaN  \n",
       "162                NaN  \n",
       "164                NaN  \n",
       "166                NaN  \n",
       "167                NaN  \n",
       "171                NaN  \n",
       "172                NaN  \n",
       "177                NaN  \n",
       "181                NaN  \n",
       "190                NaN  \n",
       "195                NaN  \n",
       "196                NaN  \n",
       "215                NaN  \n",
       "239                NaN  \n",
       "241                NaN  \n",
       "269                NaN  \n",
       "280                NaN  \n",
       "294                NaN  \n",
       "304                NaN  "
      ]
     },
     "execution_count": 185,
     "metadata": {},
     "output_type": "execute_result"
    }
   ],
   "source": [
    "sleep_stats_data[sleep_stats_data['Minutes REM Sleep'].isna()]"
   ]
  },
  {
   "cell_type": "code",
   "execution_count": 186,
   "id": "903f5e56",
   "metadata": {},
   "outputs": [],
   "source": [
    "sleep_stats_data.dropna(axis=0, inplace=True)"
   ]
  },
  {
   "cell_type": "code",
   "execution_count": 187,
   "id": "1fd7b73a",
   "metadata": {},
   "outputs": [],
   "source": [
    "cols_to_convert = sleep_stats_data.columns[2:]\n",
    "sleep_stats_data[cols_to_convert] = sleep_stats_data[cols_to_convert].astype(float)"
   ]
  },
  {
   "cell_type": "code",
   "execution_count": 188,
   "id": "83d89143",
   "metadata": {},
   "outputs": [
    {
     "name": "stdout",
     "output_type": "stream",
     "text": [
      "<class 'pandas.core.frame.DataFrame'>\n",
      "Index: 287 entries, 1 to 322\n",
      "Data columns (total 9 columns):\n",
      " #   Column                Non-Null Count  Dtype  \n",
      "---  ------                --------------  -----  \n",
      " 0   Start Time            287 non-null    object \n",
      " 1   End Time              287 non-null    object \n",
      " 2   Minutes Asleep        287 non-null    float64\n",
      " 3   Minutes Awake         287 non-null    float64\n",
      " 4   Number of Awakenings  287 non-null    float64\n",
      " 5   Time in Bed           287 non-null    float64\n",
      " 6   Minutes REM Sleep     287 non-null    float64\n",
      " 7   Minutes Light Sleep   287 non-null    float64\n",
      " 8   Minutes Deep Sleep    287 non-null    float64\n",
      "dtypes: float64(7), object(2)\n",
      "memory usage: 22.4+ KB\n"
     ]
    }
   ],
   "source": [
    "sleep_stats_data.info()"
   ]
  },
  {
   "cell_type": "markdown",
   "id": "807affbc",
   "metadata": {},
   "source": [
    "ii) preprocessing the sleep score dataframe"
   ]
  },
  {
   "cell_type": "code",
   "execution_count": 189,
   "id": "221be144",
   "metadata": {},
   "outputs": [
    {
     "data": {
      "text/html": [
       "<div>\n",
       "<style scoped>\n",
       "    .dataframe tbody tr th:only-of-type {\n",
       "        vertical-align: middle;\n",
       "    }\n",
       "\n",
       "    .dataframe tbody tr th {\n",
       "        vertical-align: top;\n",
       "    }\n",
       "\n",
       "    .dataframe thead th {\n",
       "        text-align: right;\n",
       "    }\n",
       "</style>\n",
       "<table border=\"1\" class=\"dataframe\">\n",
       "  <thead>\n",
       "    <tr style=\"text-align: right;\">\n",
       "      <th></th>\n",
       "      <th>timestamp</th>\n",
       "      <th>overall_score</th>\n",
       "    </tr>\n",
       "  </thead>\n",
       "  <tbody>\n",
       "    <tr>\n",
       "      <th>0</th>\n",
       "      <td>2020-07-02T06:23:30Z</td>\n",
       "      <td>86</td>\n",
       "    </tr>\n",
       "    <tr>\n",
       "      <th>1</th>\n",
       "      <td>2020-07-01T06:03:30Z</td>\n",
       "      <td>77</td>\n",
       "    </tr>\n",
       "    <tr>\n",
       "      <th>2</th>\n",
       "      <td>2020-06-30T05:57:00Z</td>\n",
       "      <td>78</td>\n",
       "    </tr>\n",
       "    <tr>\n",
       "      <th>3</th>\n",
       "      <td>2020-06-29T06:05:00Z</td>\n",
       "      <td>76</td>\n",
       "    </tr>\n",
       "    <tr>\n",
       "      <th>4</th>\n",
       "      <td>2020-06-28T09:20:30Z</td>\n",
       "      <td>82</td>\n",
       "    </tr>\n",
       "  </tbody>\n",
       "</table>\n",
       "</div>"
      ],
      "text/plain": [
       "              timestamp  overall_score\n",
       "0  2020-07-02T06:23:30Z             86\n",
       "1  2020-07-01T06:03:30Z             77\n",
       "2  2020-06-30T05:57:00Z             78\n",
       "3  2020-06-29T06:05:00Z             76\n",
       "4  2020-06-28T09:20:30Z             82"
      ]
     },
     "execution_count": 189,
     "metadata": {},
     "output_type": "execute_result"
    }
   ],
   "source": [
    "sleep_score_data.head()"
   ]
  },
  {
   "cell_type": "code",
   "execution_count": 190,
   "id": "9765f49e",
   "metadata": {},
   "outputs": [
    {
     "name": "stdout",
     "output_type": "stream",
     "text": [
      "<class 'pandas.core.frame.DataFrame'>\n",
      "RangeIndex: 286 entries, 0 to 285\n",
      "Data columns (total 2 columns):\n",
      " #   Column         Non-Null Count  Dtype \n",
      "---  ------         --------------  ----- \n",
      " 0   timestamp      286 non-null    object\n",
      " 1   overall_score  286 non-null    int64 \n",
      "dtypes: int64(1), object(1)\n",
      "memory usage: 4.6+ KB\n"
     ]
    }
   ],
   "source": [
    "sleep_score_data.info()"
   ]
  },
  {
   "cell_type": "markdown",
   "id": "b80381e5",
   "metadata": {},
   "source": [
    "iii) joining both the dataframes"
   ]
  },
  {
   "cell_type": "code",
   "execution_count": 191,
   "id": "9c134cd9",
   "metadata": {},
   "outputs": [],
   "source": [
    "sleep_stats_data.drop(columns='Start Time', inplace=True)\n",
    "sleep_stats_data['Date'] = sleep_stats_data['End Time'].apply(lambda x: x[:10])\n",
    "sleep_score_data['Date'] = sleep_score_data['timestamp'].apply(lambda x: x[:10])"
   ]
  },
  {
   "cell_type": "code",
   "execution_count": 192,
   "id": "2aba952c",
   "metadata": {},
   "outputs": [
    {
     "data": {
      "text/html": [
       "<div>\n",
       "<style scoped>\n",
       "    .dataframe tbody tr th:only-of-type {\n",
       "        vertical-align: middle;\n",
       "    }\n",
       "\n",
       "    .dataframe tbody tr th {\n",
       "        vertical-align: top;\n",
       "    }\n",
       "\n",
       "    .dataframe thead th {\n",
       "        text-align: right;\n",
       "    }\n",
       "</style>\n",
       "<table border=\"1\" class=\"dataframe\">\n",
       "  <thead>\n",
       "    <tr style=\"text-align: right;\">\n",
       "      <th></th>\n",
       "      <th>End Time</th>\n",
       "      <th>Minutes Asleep</th>\n",
       "      <th>Minutes Awake</th>\n",
       "      <th>Number of Awakenings</th>\n",
       "      <th>Time in Bed</th>\n",
       "      <th>Minutes REM Sleep</th>\n",
       "      <th>Minutes Light Sleep</th>\n",
       "      <th>Minutes Deep Sleep</th>\n",
       "      <th>Date</th>\n",
       "      <th>timestamp</th>\n",
       "      <th>overall_score</th>\n",
       "    </tr>\n",
       "  </thead>\n",
       "  <tbody>\n",
       "    <tr>\n",
       "      <th>0</th>\n",
       "      <td>2020-07-02 6:23AM</td>\n",
       "      <td>456.0</td>\n",
       "      <td>42.0</td>\n",
       "      <td>37.0</td>\n",
       "      <td>498.0</td>\n",
       "      <td>94.0</td>\n",
       "      <td>271.0</td>\n",
       "      <td>91.0</td>\n",
       "      <td>2020-07-02</td>\n",
       "      <td>2020-07-02T06:23:30Z</td>\n",
       "      <td>86.0</td>\n",
       "    </tr>\n",
       "    <tr>\n",
       "      <th>1</th>\n",
       "      <td>2020-07-01 6:03AM</td>\n",
       "      <td>412.0</td>\n",
       "      <td>88.0</td>\n",
       "      <td>32.0</td>\n",
       "      <td>500.0</td>\n",
       "      <td>79.0</td>\n",
       "      <td>208.0</td>\n",
       "      <td>125.0</td>\n",
       "      <td>2020-07-01</td>\n",
       "      <td>2020-07-01T06:03:30Z</td>\n",
       "      <td>77.0</td>\n",
       "    </tr>\n",
       "    <tr>\n",
       "      <th>2</th>\n",
       "      <td>2020-06-30 5:57AM</td>\n",
       "      <td>412.0</td>\n",
       "      <td>61.0</td>\n",
       "      <td>26.0</td>\n",
       "      <td>473.0</td>\n",
       "      <td>91.0</td>\n",
       "      <td>242.0</td>\n",
       "      <td>79.0</td>\n",
       "      <td>2020-06-30</td>\n",
       "      <td>2020-06-30T05:57:00Z</td>\n",
       "      <td>78.0</td>\n",
       "    </tr>\n",
       "    <tr>\n",
       "      <th>3</th>\n",
       "      <td>2020-06-29 6:05AM</td>\n",
       "      <td>342.0</td>\n",
       "      <td>59.0</td>\n",
       "      <td>26.0</td>\n",
       "      <td>401.0</td>\n",
       "      <td>71.0</td>\n",
       "      <td>196.0</td>\n",
       "      <td>75.0</td>\n",
       "      <td>2020-06-29</td>\n",
       "      <td>2020-06-29T06:05:00Z</td>\n",
       "      <td>76.0</td>\n",
       "    </tr>\n",
       "    <tr>\n",
       "      <th>4</th>\n",
       "      <td>2020-06-28 9:20AM</td>\n",
       "      <td>530.0</td>\n",
       "      <td>108.0</td>\n",
       "      <td>39.0</td>\n",
       "      <td>638.0</td>\n",
       "      <td>98.0</td>\n",
       "      <td>305.0</td>\n",
       "      <td>127.0</td>\n",
       "      <td>2020-06-28</td>\n",
       "      <td>2020-06-28T09:20:30Z</td>\n",
       "      <td>82.0</td>\n",
       "    </tr>\n",
       "  </tbody>\n",
       "</table>\n",
       "</div>"
      ],
      "text/plain": [
       "            End Time  Minutes Asleep  Minutes Awake  Number of Awakenings  \\\n",
       "0  2020-07-02 6:23AM           456.0           42.0                  37.0   \n",
       "1  2020-07-01 6:03AM           412.0           88.0                  32.0   \n",
       "2  2020-06-30 5:57AM           412.0           61.0                  26.0   \n",
       "3  2020-06-29 6:05AM           342.0           59.0                  26.0   \n",
       "4  2020-06-28 9:20AM           530.0          108.0                  39.0   \n",
       "\n",
       "   Time in Bed  Minutes REM Sleep  Minutes Light Sleep  Minutes Deep Sleep  \\\n",
       "0        498.0               94.0                271.0                91.0   \n",
       "1        500.0               79.0                208.0               125.0   \n",
       "2        473.0               91.0                242.0                79.0   \n",
       "3        401.0               71.0                196.0                75.0   \n",
       "4        638.0               98.0                305.0               127.0   \n",
       "\n",
       "         Date             timestamp  overall_score  \n",
       "0  2020-07-02  2020-07-02T06:23:30Z           86.0  \n",
       "1  2020-07-01  2020-07-01T06:03:30Z           77.0  \n",
       "2  2020-06-30  2020-06-30T05:57:00Z           78.0  \n",
       "3  2020-06-29  2020-06-29T06:05:00Z           76.0  \n",
       "4  2020-06-28  2020-06-28T09:20:30Z           82.0  "
      ]
     },
     "execution_count": 192,
     "metadata": {},
     "output_type": "execute_result"
    }
   ],
   "source": [
    "joined_data = sleep_stats_data.merge(sleep_score_data, on='Date', how='left')\n",
    "joined_data.head()"
   ]
  },
  {
   "cell_type": "code",
   "execution_count": 193,
   "id": "1fc769f7",
   "metadata": {},
   "outputs": [
    {
     "data": {
      "text/html": [
       "<div>\n",
       "<style scoped>\n",
       "    .dataframe tbody tr th:only-of-type {\n",
       "        vertical-align: middle;\n",
       "    }\n",
       "\n",
       "    .dataframe tbody tr th {\n",
       "        vertical-align: top;\n",
       "    }\n",
       "\n",
       "    .dataframe thead th {\n",
       "        text-align: right;\n",
       "    }\n",
       "</style>\n",
       "<table border=\"1\" class=\"dataframe\">\n",
       "  <thead>\n",
       "    <tr style=\"text-align: right;\">\n",
       "      <th></th>\n",
       "      <th>Minutes Asleep</th>\n",
       "      <th>Minutes Awake</th>\n",
       "      <th>Time in Bed</th>\n",
       "      <th>Minutes REM Sleep</th>\n",
       "      <th>Minutes Light Sleep</th>\n",
       "      <th>Minutes Deep Sleep</th>\n",
       "      <th>overall_score</th>\n",
       "    </tr>\n",
       "  </thead>\n",
       "  <tbody>\n",
       "    <tr>\n",
       "      <th>0</th>\n",
       "      <td>456.0</td>\n",
       "      <td>42.0</td>\n",
       "      <td>498.0</td>\n",
       "      <td>94.0</td>\n",
       "      <td>271.0</td>\n",
       "      <td>91.0</td>\n",
       "      <td>86.0</td>\n",
       "    </tr>\n",
       "    <tr>\n",
       "      <th>1</th>\n",
       "      <td>412.0</td>\n",
       "      <td>88.0</td>\n",
       "      <td>500.0</td>\n",
       "      <td>79.0</td>\n",
       "      <td>208.0</td>\n",
       "      <td>125.0</td>\n",
       "      <td>77.0</td>\n",
       "    </tr>\n",
       "    <tr>\n",
       "      <th>2</th>\n",
       "      <td>412.0</td>\n",
       "      <td>61.0</td>\n",
       "      <td>473.0</td>\n",
       "      <td>91.0</td>\n",
       "      <td>242.0</td>\n",
       "      <td>79.0</td>\n",
       "      <td>78.0</td>\n",
       "    </tr>\n",
       "    <tr>\n",
       "      <th>3</th>\n",
       "      <td>342.0</td>\n",
       "      <td>59.0</td>\n",
       "      <td>401.0</td>\n",
       "      <td>71.0</td>\n",
       "      <td>196.0</td>\n",
       "      <td>75.0</td>\n",
       "      <td>76.0</td>\n",
       "    </tr>\n",
       "    <tr>\n",
       "      <th>4</th>\n",
       "      <td>530.0</td>\n",
       "      <td>108.0</td>\n",
       "      <td>638.0</td>\n",
       "      <td>98.0</td>\n",
       "      <td>305.0</td>\n",
       "      <td>127.0</td>\n",
       "      <td>82.0</td>\n",
       "    </tr>\n",
       "  </tbody>\n",
       "</table>\n",
       "</div>"
      ],
      "text/plain": [
       "   Minutes Asleep  Minutes Awake  Time in Bed  Minutes REM Sleep  \\\n",
       "0           456.0           42.0        498.0               94.0   \n",
       "1           412.0           88.0        500.0               79.0   \n",
       "2           412.0           61.0        473.0               91.0   \n",
       "3           342.0           59.0        401.0               71.0   \n",
       "4           530.0          108.0        638.0               98.0   \n",
       "\n",
       "   Minutes Light Sleep  Minutes Deep Sleep  overall_score  \n",
       "0                271.0                91.0           86.0  \n",
       "1                208.0               125.0           77.0  \n",
       "2                242.0                79.0           78.0  \n",
       "3                196.0                75.0           76.0  \n",
       "4                305.0               127.0           82.0  "
      ]
     },
     "execution_count": 193,
     "metadata": {},
     "output_type": "execute_result"
    }
   ],
   "source": [
    "sleep_data = joined_data.drop(columns=['End Time', 'timestamp', 'Date', 'Number of Awakenings'])\n",
    "sleep_data.dropna(axis=0,inplace=True)\n",
    "sleep_data.head()"
   ]
  },
  {
   "cell_type": "code",
   "execution_count": 194,
   "id": "6b4d9ea5",
   "metadata": {},
   "outputs": [
    {
     "data": {
      "text/plain": [
       "286"
      ]
     },
     "execution_count": 194,
     "metadata": {},
     "output_type": "execute_result"
    }
   ],
   "source": [
    "len(sleep_data)"
   ]
  },
  {
   "cell_type": "markdown",
   "id": "31b32556",
   "metadata": {},
   "source": [
    "# VISUALIZING THE RELATIONSHIPS BETWEEN FEATURES AND SLEEP SCORE"
   ]
  },
  {
   "cell_type": "markdown",
   "id": "bf42c9bf",
   "metadata": {},
   "source": [
    "i) Inspecting the relationship between all the independent variables and the dependent variables "
   ]
  },
  {
   "cell_type": "code",
   "execution_count": 195,
   "id": "21820e13",
   "metadata": {},
   "outputs": [],
   "source": [
    "def plot_relationships(df, num_cols):\n",
    "    variables = df.columns\n",
    "   \n",
    "    dep_var = variables[-1]\n",
    "    ind_var = variables[:-1]\n",
    "    figs = len(dep_var)\n",
    "    num_cols = num_cols\n",
    "    num_rows = round(figs / num_cols) + 1\n",
    "    fig = 1\n",
    "    plt.figure(figsize=(20,30))\n",
    "   \n",
    "    for i in ind_var:\n",
    "        pltfignums = [str(num_rows), str(num_cols), str(fig)]\n",
    "        pltfig = int(''.join(pltfignums))\n",
    "        plt.subplot(pltfig)\n",
    "        plt.scatter(df[i], df[dep_var])\n",
    "        plt.xlabel(str(i))\n",
    "        plt.ylabel(str(dep_var))\n",
    "        fig +=1"
   ]
  },
  {
   "cell_type": "code",
   "execution_count": 196,
   "id": "89973692",
   "metadata": {},
   "outputs": [
    {
     "data": {
      "image/png": "[encoded data removed]",
      "text/plain": [
       "<Figure size 2000x3000 with 6 Axes>"
      ]
     },
     "metadata": {},
     "output_type": "display_data"
    }
   ],
   "source": [
    "plot_relationships(sleep_data, 3)"
   ]
  },
  {
   "cell_type": "markdown",
   "id": "bcafd98f",
   "metadata": {},
   "source": [
    "ii) Inspecting the correlations"
   ]
  },
  {
   "cell_type": "code",
   "execution_count": 197,
   "id": "f7d77c35",
   "metadata": {},
   "outputs": [
    {
     "data": {
      "text/plain": [
       "<Axes: >"
      ]
     },
     "execution_count": 197,
     "metadata": {},
     "output_type": "execute_result"
    },
    {
     "data": {
      "image/png": "[encoded data removed]",
      "text/plain": [
       "<Figure size 1000x600 with 2 Axes>"
      ]
     },
     "metadata": {},
     "output_type": "display_data"
    }
   ],
   "source": [
    "import seaborn as sns\n",
    "plt.figure(figsize=(10, 6))\n",
    "sns.heatmap(sleep_data.corr(), annot=True, cmap='coolwarm', fmt='.2g')"
   ]
  },
  {
   "cell_type": "markdown",
   "id": "6c67f256",
   "metadata": {},
   "source": [
    "iii) Inspecting the sleep score distribution"
   ]
  },
  {
   "cell_type": "code",
   "execution_count": 198,
   "id": "19cbe197",
   "metadata": {},
   "outputs": [
    {
     "data": {
      "text/plain": [
       "32"
      ]
     },
     "execution_count": 198,
     "metadata": {},
     "output_type": "execute_result"
    }
   ],
   "source": [
    "spread = int(max(sleep_data.overall_score) - min(sleep_data.overall_score))\n",
    "spread"
   ]
  },
  {
   "cell_type": "code",
   "execution_count": 199,
   "id": "dedb5faf",
   "metadata": {},
   "outputs": [
    {
     "data": {
      "text/plain": [
       "<matplotlib.legend.Legend at 0x12b30bd7b80>"
      ]
     },
     "execution_count": 199,
     "metadata": {},
     "output_type": "execute_result"
    },
    {
     "data": {
      "image/png": "[encoded data removed]",
      "text/plain": [
       "<Figure size 1500x800 with 1 Axes>"
      ]
     },
     "metadata": {},
     "output_type": "display_data"
    }
   ],
   "source": [
    "plt.figure(figsize=(15,8))\n",
    "plt.hist(sleep_data.overall_score, bins=spread)\n",
    "plt.axvline(sleep_data.overall_score.mean(), color='r', label='Average Sleep Score')\n",
    "plt.xlabel('Sleep Score')\n",
    "plt.ylabel('Frequency')\n",
    "plt.title('Sleep Score Distribution')\n",
    "plt.legend()"
   ]
  },
  {
   "cell_type": "markdown",
   "id": "93409ff0",
   "metadata": {},
   "source": [
    "# Splitting the data into training, testing and validation set"
   ]
  },
  {
   "cell_type": "code",
   "execution_count": 200,
   "id": "5b663ec2",
   "metadata": {},
   "outputs": [],
   "source": [
    "from sklearn.model_selection import train_test_split\n",
    "X_train_temp, X_test, y_train_temp, y_test = train_test_split(sleep_data.iloc[:,:-1], sleep_data['overall_score'], test_size=0.2, random_state=42)\n",
    "X_train, X_valid, y_train, y_valid = train_test_split(X_train_temp, y_train_temp, test_size=0.25, random_state=42)"
   ]
  },
  {
   "cell_type": "code",
   "execution_count": 201,
   "id": "cbecbd77",
   "metadata": {},
   "outputs": [
    {
     "data": {
      "text/plain": [
       "(171, 57, 58)"
      ]
     },
     "execution_count": 201,
     "metadata": {},
     "output_type": "execute_result"
    }
   ],
   "source": [
    "len(X_train), len(X_valid), len(X_test)"
   ]
  },
  {
   "cell_type": "markdown",
   "id": "3e6497a6",
   "metadata": {},
   "source": [
    "# scaling the features"
   ]
  },
  {
   "cell_type": "code",
   "execution_count": 202,
   "id": "6b7f6215",
   "metadata": {},
   "outputs": [
    {
     "data": {
      "text/plain": [
       "<Axes: >"
      ]
     },
     "execution_count": 202,
     "metadata": {},
     "output_type": "execute_result"
    },
    {
     "data": {
      "image/png": "[encoded data removed]",
      "text/plain": [
       "<Figure size 1500x800 with 1 Axes>"
      ]
     },
     "metadata": {},
     "output_type": "display_data"
    }
   ],
   "source": [
    "plt.figure(figsize=(15,8))\n",
    "sns.boxplot(data=X_train.iloc[:,1:], orient='h', palette='Set2')"
   ]
  },
  {
   "cell_type": "code",
   "execution_count": 203,
   "id": "7f5ee42d",
   "metadata": {
    "scrolled": false
   },
   "outputs": [
    {
     "data": {
      "text/plain": [
       "array([[ 0.47416413,  0.32      ,  0.45801527,  0.53125   ,  0.44032922,\n",
       "         0.49193548],\n",
       "       [ 0.71732523,  0.11      ,  0.60814249,  0.725     ,  0.63374486,\n",
       "         0.50806452],\n",
       "       [ 0.23100304,  0.33      ,  0.25699746,  0.38125   ,  0.49382716,\n",
       "        -0.06451613],\n",
       "       [ 0.21276596,  0.3       ,  0.23409669,  0.4375    ,  0.21399177,\n",
       "         0.36290323],\n",
       "       [ 0.24924012,  0.67      ,  0.35877863,  0.43125   ,  0.10699588,\n",
       "         0.67741935],\n",
       "       [ 0.11246201,  0.44      ,  0.18575064, -0.03125   ,  0.34567901,\n",
       "         0.44354839],\n",
       "       [ 0.62006079,  0.51      ,  0.62849873,  0.525     ,  0.59670782,\n",
       "         0.58064516],\n",
       "       [ 0.70212766,  0.48      ,  0.68956743,  0.55      ,  0.51028807,\n",
       "         0.93548387],\n",
       "       [ 0.17021277,  0.17      ,  0.1653944 ,  0.2625    ,  0.12345679,\n",
       "         0.65322581],\n",
       "       [ 0.39209726,  0.36      ,  0.39949109,  0.50625   ,  0.35802469,\n",
       "         0.46774194],\n",
       "       [ 0.38297872,  0.33      ,  0.38422392,  0.475     ,  0.24691358,\n",
       "         0.7016129 ],\n",
       "       [ 0.56231003,  0.57      ,  0.59541985,  0.35625   ,  0.67489712,\n",
       "         0.49193548],\n",
       "       [ 0.58054711,  0.47      ,  0.58524173,  0.65      ,  0.49382716,\n",
       "         0.51612903],\n",
       "       [ 0.42857143,  0.27      ,  0.40712468,  0.3375    ,  0.44032922,\n",
       "         0.62096774],\n",
       "       [ 0.52583587,  0.36      ,  0.51145038,  0.68125   ,  0.37860082,\n",
       "         0.55645161],\n",
       "       [ 0.42553191,  0.19      ,  0.38422392,  0.45      ,  0.35802469,\n",
       "         0.62903226],\n",
       "       [ 0.58662614,  0.72      ,  0.65394402,  0.375     ,  0.69135802,\n",
       "         0.5       ],\n",
       "       [ 0.24012158,  0.43      ,  0.29007634,  0.29375   ,  0.26748971,\n",
       "         0.51612903],\n",
       "       [ 0.53495441,  0.32      ,  0.50890585,  0.51875   ,  0.35802469,\n",
       "         0.83064516],\n",
       "       [ 0.00607903,  0.08      ,  0.00508906,  0.325     ,  0.0617284 ,\n",
       "         0.25806452],\n",
       "       [ 0.31610942,  0.24      ,  0.30534351,  0.475     ,  0.21399177,\n",
       "         0.58870968],\n",
       "       [ 0.44072948,  0.19      ,  0.39694656,  0.675     ,  0.14403292,\n",
       "         0.7983871 ],\n",
       "       [ 0.20364742,  0.25      ,  0.21374046,  0.2625    ,  0.11111111,\n",
       "         0.76612903],\n",
       "       [ 0.20972644,  0.3       ,  0.23155216,  0.2375    ,  0.30452675,\n",
       "         0.43548387],\n",
       "       [ 0.62917933,  0.39      ,  0.60559796,  0.575     ,  0.65843621,\n",
       "         0.41935484],\n",
       "       [ 0.67781155,  0.7       ,  0.72519084,  0.9125    ,  0.43209877,\n",
       "         0.55645161],\n",
       "       [ 0.45896657,  0.32      ,  0.44529262,  0.4375    ,  0.48559671,\n",
       "         0.48387097],\n",
       "       [ 0.55319149,  0.23      ,  0.50127226,  0.6125    ,  0.36213992,\n",
       "         0.75      ],\n",
       "       [ 0.78723404,  0.53      ,  0.7735369 ,  0.99375   ,  0.31687243,\n",
       "         0.96774194],\n",
       "       [ 0.39513678,  0.22      ,  0.36641221,  0.4625    ,  0.43621399,\n",
       "         0.37903226],\n",
       "       [ 0.11854103,  0.25      ,  0.14249364,  0.31875   ,  0.1399177 ,\n",
       "         0.41129032],\n",
       "       [ 0.59574468,  0.36      ,  0.56997455,  0.5       ,  0.53497942,\n",
       "         0.66935484],\n",
       "       [ 0.3343465 ,  0.16      ,  0.30025445,  0.74375   ,  0.00823045,\n",
       "         0.69354839],\n",
       "       [ 0.32218845,  0.47      ,  0.36895674,  0.325     ,  0.28395062,\n",
       "         0.66129032],\n",
       "       [ 0.27963526,  0.36      ,  0.30534351,  0.3375    ,  0.32510288,\n",
       "         0.4516129 ],\n",
       "       [ 0.05775076,  0.22      ,  0.08396947,  0.2125    ,  0.14403292,\n",
       "         0.37903226],\n",
       "       [ 0.40729483,  0.6       ,  0.47328244,  0.275     ,  0.43621399,\n",
       "         0.65322581],\n",
       "       [ 0.68085106,  0.54      ,  0.6870229 ,  0.55625   ,  0.61728395,\n",
       "         0.66129032],\n",
       "       [ 0.44984802,  0.6       ,  0.50890585,  0.26875   ,  0.44444444,\n",
       "         0.75806452],\n",
       "       [ 0.60486322,  0.43      ,  0.59541985,  0.6875    ,  0.48559671,\n",
       "         0.5483871 ],\n",
       "       [ 0.53191489,  0.74      ,  0.61323155,  0.4625    ,  0.67901235,\n",
       "         0.26612903],\n",
       "       [ 0.28571429,  0.53      ,  0.35368957,  0.55      ,  0.10288066,\n",
       "         0.62903226],\n",
       "       [ 0.41641337,  0.12      ,  0.35877863,  0.45625   ,  0.33744856,\n",
       "         0.63709677],\n",
       "       [ 0.3100304 ,  0.09      ,  0.26208651,  0.40625   ,  0.218107  ,\n",
       "         0.65322581],\n",
       "       [ 0.51671733,  0.27      ,  0.48091603,  0.5375    ,  0.55555556,\n",
       "         0.37096774],\n",
       "       [ 0.58966565,  0.47      ,  0.59287532,  0.725     ,  0.39506173,\n",
       "         0.63709677],\n",
       "       [ 0.07294833,  0.15      ,  0.07888041,  0.39375   , -0.02469136,\n",
       "         0.51612903],\n",
       "       [ 0.443769  ,  0.44      ,  0.46310433,  0.14375   ,  0.67489712,\n",
       "         0.4516129 ],\n",
       "       [ 0.48328267,  0.52      ,  0.51653944,  0.35      ,  0.39917695,\n",
       "         0.83064516],\n",
       "       [ 0.25531915,  0.31      ,  0.27226463,  0.36875   ,  0.30041152,\n",
       "         0.39516129],\n",
       "       [ 0.3100304 ,  0.45      ,  0.35368957,  0.325     ,  0.21399177,\n",
       "         0.76612903],\n",
       "       [ 0.6443769 ,  0.39      ,  0.61832061,  0.43125   ,  0.85185185,\n",
       "         0.26612903],\n",
       "       [ 0.00607903,  0.22      ,  0.04071247,  0.0375    ,  0.25102881,\n",
       "         0.25806452],\n",
       "       [ 0.35866261,  0.22      ,  0.33587786,  0.3625    ,  0.34979424,\n",
       "         0.58064516],\n",
       "       [ 0.31610942,  0.38      ,  0.34096692,  0.55625   ,  0.15226337,\n",
       "         0.60483871],\n",
       "       [ 0.79331307,  0.6       ,  0.79643766,  0.8125    ,  0.3909465 ,\n",
       "         1.07258065],\n",
       "       [ 0.61398176,  0.27      ,  0.56234097,  0.56875   ,  0.56378601,\n",
       "         0.57258065],\n",
       "       [ 0.29179331,  0.5       ,  0.35114504,  0.26875   ,  0.45679012,\n",
       "         0.31451613]])"
      ]
     },
     "execution_count": 203,
     "metadata": {},
     "output_type": "execute_result"
    }
   ],
   "source": [
    "from sklearn.preprocessing import MinMaxScaler\n",
    "from sklearn.preprocessing import StandardScaler\n",
    "scaler = MinMaxScaler()\n",
    "scaler.fit_transform(X_train)\n",
    "scaler.transform(X_valid)\n",
    "scaler.transform(X_test)"
   ]
  },
  {
   "cell_type": "markdown",
   "id": "70347926",
   "metadata": {},
   "source": [
    "# Feature selection using Lasso Regression"
   ]
  },
  {
   "cell_type": "code",
   "execution_count": 204,
   "id": "ea20ed95",
   "metadata": {},
   "outputs": [
    {
     "data": {
      "text/html": [
       "<style>#sk-container-id-8 {color: black;}#sk-container-id-8 pre{padding: 0;}#sk-container-id-8 div.sk-toggleable {background-color: white;}#sk-container-id-8 label.sk-toggleable__label {cursor: pointer;display: block;width: 100%;margin-bottom: 0;padding: 0.3em;box-sizing: border-box;text-align: center;}#sk-container-id-8 label.sk-toggleable__label-arrow:before {content: \"▸\";float: left;margin-right: 0.25em;color: #696969;}#sk-container-id-8 label.sk-toggleable__label-arrow:hover:before {color: black;}#sk-container-id-8 div.sk-estimator:hover label.sk-toggleable__label-arrow:before {color: black;}#sk-container-id-8 div.sk-toggleable__content {max-height: 0;max-width: 0;overflow: hidden;text-align: left;background-color: #f0f8ff;}#sk-container-id-8 div.sk-toggleable__content pre {margin: 0.2em;color: black;border-radius: 0.25em;background-color: #f0f8ff;}#sk-container-id-8 input.sk-toggleable__control:checked~div.sk-toggleable__content {max-height: 200px;max-width: 100%;overflow: auto;}#sk-container-id-8 input.sk-toggleable__control:checked~label.sk-toggleable__label-arrow:before {content: \"▾\";}#sk-container-id-8 div.sk-estimator input.sk-toggleable__control:checked~label.sk-toggleable__label {background-color: #d4ebff;}#sk-container-id-8 div.sk-label input.sk-toggleable__control:checked~label.sk-toggleable__label {background-color: #d4ebff;}#sk-container-id-8 input.sk-hidden--visually {border: 0;clip: rect(1px 1px 1px 1px);clip: rect(1px, 1px, 1px, 1px);height: 1px;margin: -1px;overflow: hidden;padding: 0;position: absolute;width: 1px;}#sk-container-id-8 div.sk-estimator {font-family: monospace;background-color: #f0f8ff;border: 1px dotted black;border-radius: 0.25em;box-sizing: border-box;margin-bottom: 0.5em;}#sk-container-id-8 div.sk-estimator:hover {background-color: #d4ebff;}#sk-container-id-8 div.sk-parallel-item::after {content: \"\";width: 100%;border-bottom: 1px solid gray;flex-grow: 1;}#sk-container-id-8 div.sk-label:hover label.sk-toggleable__label {background-color: #d4ebff;}#sk-container-id-8 div.sk-serial::before {content: \"\";position: absolute;border-left: 1px solid gray;box-sizing: border-box;top: 0;bottom: 0;left: 50%;z-index: 0;}#sk-container-id-8 div.sk-serial {display: flex;flex-direction: column;align-items: center;background-color: white;padding-right: 0.2em;padding-left: 0.2em;position: relative;}#sk-container-id-8 div.sk-item {position: relative;z-index: 1;}#sk-container-id-8 div.sk-parallel {display: flex;align-items: stretch;justify-content: center;background-color: white;position: relative;}#sk-container-id-8 div.sk-item::before, #sk-container-id-8 div.sk-parallel-item::before {content: \"\";position: absolute;border-left: 1px solid gray;box-sizing: border-box;top: 0;bottom: 0;left: 50%;z-index: -1;}#sk-container-id-8 div.sk-parallel-item {display: flex;flex-direction: column;z-index: 1;position: relative;background-color: white;}#sk-container-id-8 div.sk-parallel-item:first-child::after {align-self: flex-end;width: 50%;}#sk-container-id-8 div.sk-parallel-item:last-child::after {align-self: flex-start;width: 50%;}#sk-container-id-8 div.sk-parallel-item:only-child::after {width: 0;}#sk-container-id-8 div.sk-dashed-wrapped {border: 1px dashed gray;margin: 0 0.4em 0.5em 0.4em;box-sizing: border-box;padding-bottom: 0.4em;background-color: white;}#sk-container-id-8 div.sk-label label {font-family: monospace;font-weight: bold;display: inline-block;line-height: 1.2em;}#sk-container-id-8 div.sk-label-container {text-align: center;}#sk-container-id-8 div.sk-container {/* jupyter's `normalize.less` sets `[hidden] { display: none; }` but bootstrap.min.css set `[hidden] { display: none !important; }` so we also need the `!important` here to be able to override the default hidden behavior on the sphinx rendered scikit-learn.org. See: https://github.com/scikit-learn/scikit-learn/issues/21755 */display: inline-block !important;position: relative;}#sk-container-id-8 div.sk-text-repr-fallback {display: none;}</style><div id=\"sk-container-id-8\" class=\"sk-top-container\"><div class=\"sk-text-repr-fallback\"><pre>Lasso(alpha=0.1)</pre><b>In a Jupyter environment, please rerun this cell to show the HTML representation or trust the notebook. <br />On GitHub, the HTML representation is unable to render, please try loading this page with nbviewer.org.</b></div><div class=\"sk-container\" hidden><div class=\"sk-item\"><div class=\"sk-estimator sk-toggleable\"><input class=\"sk-toggleable__control sk-hidden--visually\" id=\"sk-estimator-id-8\" type=\"checkbox\" checked><label for=\"sk-estimator-id-8\" class=\"sk-toggleable__label sk-toggleable__label-arrow\">Lasso</label><div class=\"sk-toggleable__content\"><pre>Lasso(alpha=0.1)</pre></div></div></div></div></div>"
      ],
      "text/plain": [
       "Lasso(alpha=0.1)"
      ]
     },
     "execution_count": 204,
     "metadata": {},
     "output_type": "execute_result"
    }
   ],
   "source": [
    "from sklearn.linear_model import Lasso\n",
    "lasso = Lasso(alpha=0.1)\n",
    "lasso.fit(X_train, y_train)"
   ]
  },
  {
   "cell_type": "code",
   "execution_count": 205,
   "id": "fe2b9b1c",
   "metadata": {},
   "outputs": [
    {
     "data": {
      "text/plain": [
       "Text(0.5, 1.0, 'Lasso coefficients for sleep data features')"
      ]
     },
     "execution_count": 205,
     "metadata": {},
     "output_type": "execute_result"
    },
    {
     "data": {
      "image/png": "[encoded data removed]",
      "text/plain": [
       "<Figure size 1000x600 with 1 Axes>"
      ]
     },
     "metadata": {},
     "output_type": "display_data"
    }
   ],
   "source": [
    "lasso_coef = lasso.coef_\n",
    "\n",
    "plt.figure(figsize=(10, 6))\n",
    "plt.plot(range(len(X_train.columns)), lasso_coef)\n",
    "plt.xticks(range(len(X_train.columns)), X_train.columns, rotation=60)\n",
    "plt.axhline(0.0, linestyle='--', color='r')\n",
    "plt.ylabel('Coefficients')\n",
    "plt.title('Lasso coefficients for sleep data features')"
   ]
  },
  {
   "cell_type": "code",
   "execution_count": 206,
   "id": "d6bd0f83",
   "metadata": {},
   "outputs": [],
   "source": [
    "cols_to_drop = ['Time in Bed', 'Minutes Light Sleep']\n",
    "\n",
    "X_train_temp.drop(columns=cols_to_drop, inplace=True)\n",
    "X_train.drop(columns=cols_to_drop, inplace=True)\n",
    "X_valid.drop(columns=cols_to_drop, inplace=True)\n",
    "X_test.drop(columns=cols_to_drop, inplace=True)"
   ]
  },
  {
   "cell_type": "markdown",
   "id": "66303259",
   "metadata": {},
   "source": [
    "# Defining the performance measure"
   ]
  },
  {
   "cell_type": "code",
   "execution_count": 207,
   "id": "5bb603f8",
   "metadata": {},
   "outputs": [],
   "source": [
    "def scoring(model, test_features, test_labels):\n",
    "    predictions = model.predict(test_features)\n",
    "    mae = mean_absolute_error(test_labels, predictions)\n",
    "    mse = mean_squared_error(test_labels, predictions)\n",
    "    r2 = r2_score(test_labels, predictions)\n",
    "    errors = abs(predictions - test_labels)\n",
    "    mape = 100 * np.mean(errors / test_labels)\n",
    "    accuracy = 100 - mape\n",
    "    print('Model Performance')\n",
    "    print('Mean Absolute Error: {:0.4f}.'.format(mae))\n",
    "    print('Mean Squared Error: {:0.4f}.'.format(mse))\n",
    "    print('R^2 Score = {:0.4f}.'.format(r2))\n",
    "    print('Accuracy = {:0.2f}%.'.format(accuracy))"
   ]
  },
  {
   "cell_type": "markdown",
   "id": "fd308110",
   "metadata": {},
   "source": [
    "# Establishing a baseline"
   ]
  },
  {
   "cell_type": "code",
   "execution_count": 208,
   "id": "6314dd50",
   "metadata": {},
   "outputs": [
    {
     "name": "stdout",
     "output_type": "stream",
     "text": [
      "Model Performance\n",
      "Mean Absolute Error: 5.4912.\n",
      "Mean Squared Error: 47.9474.\n",
      "R^2 Score = -0.1037.\n",
      "Accuracy = 92.68%.\n"
     ]
    }
   ],
   "source": [
    "from sklearn.metrics import mean_squared_error\n",
    "from sklearn.metrics import mean_absolute_error\n",
    "from sklearn.metrics import r2_score\n",
    "\n",
    "baseline_y = [y_train.median()] * len(y_valid)\n",
    "\n",
    "base_predictions = baseline_y\n",
    "base_mae = mean_absolute_error(y_valid, base_predictions)\n",
    "base_mse = mean_squared_error(y_valid, base_predictions)\n",
    "base_r2 = r2_score(y_valid, base_predictions)\n",
    "base_errors = abs(base_predictions - y_valid)\n",
    "base_mape = 100 * np.mean(base_errors / y_valid)\n",
    "base_accuracy = 100 - base_mape\n",
    "print('Model Performance')\n",
    "print('Mean Absolute Error: {:0.4f}.'.format(base_mae))\n",
    "print('Mean Squared Error: {:0.4f}.'.format(base_mse))\n",
    "print('R^2 Score = {:0.4f}.'.format(base_r2))\n",
    "print('Accuracy = {:0.2f}%.'.format(base_accuracy))"
   ]
  },
  {
   "cell_type": "markdown",
   "id": "e3352796",
   "metadata": {},
   "source": [
    "# 1) MLR - Multiple Linear Regression"
   ]
  },
  {
   "cell_type": "code",
   "execution_count": 209,
   "id": "b965cbde",
   "metadata": {},
   "outputs": [],
   "source": [
    "from sklearn.linear_model import LinearRegression\n",
    "\n",
    "regressor = LinearRegression()\n",
    "mlr = regressor.fit(X_train, y_train)"
   ]
  },
  {
   "cell_type": "code",
   "execution_count": 210,
   "id": "8c21939f",
   "metadata": {},
   "outputs": [
    {
     "name": "stdout",
     "output_type": "stream",
     "text": [
      "Model Performance\n",
      "Mean Absolute Error: 2.5870.\n",
      "Mean Squared Error: 10.5967.\n",
      "R^2 Score = 0.7561.\n",
      "Accuracy = 96.63%.\n"
     ]
    }
   ],
   "source": [
    "scoring(mlr, X_valid, y_valid)"
   ]
  },
  {
   "cell_type": "code",
   "execution_count": 211,
   "id": "5b4ea61b",
   "metadata": {},
   "outputs": [
    {
     "data": {
      "text/plain": [
       "[<matplotlib.lines.Line2D at 0x12b294d0850>]"
      ]
     },
     "execution_count": 211,
     "metadata": {},
     "output_type": "execute_result"
    },
    {
     "data": {
      "image/png": "[encoded data removed]",
      "text/plain": [
       "<Figure size 640x480 with 1 Axes>"
      ]
     },
     "metadata": {},
     "output_type": "display_data"
    }
   ],
   "source": [
    "y_pred = mlr.predict(X_valid)\n",
    "\n",
    "x = np.linspace(65, 90, 25)\n",
    "y = x\n",
    "\n",
    "plt.scatter(y_pred, y_valid)\n",
    "plt.plot(x, y)"
   ]
  },
  {
   "cell_type": "markdown",
   "id": "473bff7c",
   "metadata": {},
   "source": [
    "# 2) Random Forest Regression"
   ]
  },
  {
   "cell_type": "code",
   "execution_count": 212,
   "id": "f4d2aeb2",
   "metadata": {},
   "outputs": [],
   "source": [
    "from sklearn.ensemble import RandomForestRegressor\n",
    "\n",
    "rf_regressor = RandomForestRegressor(random_state=42)\n",
    "rf = rf_regressor.fit(X_train, y_train)"
   ]
  },
  {
   "cell_type": "code",
   "execution_count": 213,
   "id": "83d31c5a",
   "metadata": {},
   "outputs": [
    {
     "name": "stdout",
     "output_type": "stream",
     "text": [
      "Model Performance\n",
      "Mean Absolute Error: 2.5875.\n",
      "Mean Squared Error: 11.3915.\n",
      "R^2 Score = 0.7378.\n",
      "Accuracy = 96.58%.\n"
     ]
    }
   ],
   "source": [
    "scoring(rf, X_valid, y_valid)"
   ]
  },
  {
   "cell_type": "code",
   "execution_count": 214,
   "id": "469593a1",
   "metadata": {},
   "outputs": [
    {
     "data": {
      "text/plain": [
       "[<matplotlib.lines.Line2D at 0x12b2ca09f70>]"
      ]
     },
     "execution_count": 214,
     "metadata": {},
     "output_type": "execute_result"
    },
    {
     "data": {
      "image/png": "[encoded data removed]",
      "text/plain": [
       "<Figure size 640x480 with 1 Axes>"
      ]
     },
     "metadata": {},
     "output_type": "display_data"
    }
   ],
   "source": [
    "y_pred = rf.predict(X_valid)\n",
    "\n",
    "x = np.linspace(65, 90, 25)\n",
    "y = x\n",
    "\n",
    "plt.scatter(y_pred, y_valid)\n",
    "plt.plot(x, y)"
   ]
  },
  {
   "cell_type": "code",
   "execution_count": null,
   "id": "8ada6211",
   "metadata": {},
   "outputs": [],
   "source": []
  },
  {
   "cell_type": "code",
   "execution_count": 215,
   "id": "b9165537",
   "metadata": {},
   "outputs": [
    {
     "data": {
      "text/html": [
       "<div>\n",
       "<style scoped>\n",
       "    .dataframe tbody tr th:only-of-type {\n",
       "        vertical-align: middle;\n",
       "    }\n",
       "\n",
       "    .dataframe tbody tr th {\n",
       "        vertical-align: top;\n",
       "    }\n",
       "\n",
       "    .dataframe thead th {\n",
       "        text-align: right;\n",
       "    }\n",
       "</style>\n",
       "<table border=\"1\" class=\"dataframe\">\n",
       "  <thead>\n",
       "    <tr style=\"text-align: right;\">\n",
       "      <th></th>\n",
       "      <th>Feature Importance</th>\n",
       "    </tr>\n",
       "  </thead>\n",
       "  <tbody>\n",
       "    <tr>\n",
       "      <th>Minutes Asleep</th>\n",
       "      <td>0.479255</td>\n",
       "    </tr>\n",
       "    <tr>\n",
       "      <th>Minutes Awake</th>\n",
       "      <td>0.111434</td>\n",
       "    </tr>\n",
       "    <tr>\n",
       "      <th>Minutes REM Sleep</th>\n",
       "      <td>0.326952</td>\n",
       "    </tr>\n",
       "    <tr>\n",
       "      <th>Minutes Deep Sleep</th>\n",
       "      <td>0.082359</td>\n",
       "    </tr>\n",
       "  </tbody>\n",
       "</table>\n",
       "</div>"
      ],
      "text/plain": [
       "                    Feature Importance\n",
       "Minutes Asleep                0.479255\n",
       "Minutes Awake                 0.111434\n",
       "Minutes REM Sleep             0.326952\n",
       "Minutes Deep Sleep            0.082359"
      ]
     },
     "execution_count": 215,
     "metadata": {},
     "output_type": "execute_result"
    }
   ],
   "source": [
    "rf_feats = pd.DataFrame(rf.feature_importances_, index=X_train.columns, columns=['Feature Importance'])\n",
    "rf_feats"
   ]
  },
  {
   "cell_type": "markdown",
   "id": "ecd7c9c2",
   "metadata": {},
   "source": [
    "# 3) Extreme Gradiend Boosting"
   ]
  },
  {
   "cell_type": "code",
   "execution_count": 216,
   "id": "b3ea43a8",
   "metadata": {},
   "outputs": [],
   "source": [
    "from xgboost import XGBRegressor\n",
    "\n",
    "xgb_regressor = XGBRegressor(random_state=42)\n",
    "xgb = xgb_regressor.fit(X_train, y_train)"
   ]
  },
  {
   "cell_type": "code",
   "execution_count": 217,
   "id": "7b4bbfd9",
   "metadata": {},
   "outputs": [
    {
     "name": "stdout",
     "output_type": "stream",
     "text": [
      "Model Performance\n",
      "Mean Absolute Error: 2.9554.\n",
      "Mean Squared Error: 14.5202.\n",
      "R^2 Score = 0.6657.\n",
      "Accuracy = 96.11%.\n"
     ]
    }
   ],
   "source": [
    "scoring(xgb, X_valid, y_valid)"
   ]
  },
  {
   "cell_type": "code",
   "execution_count": 218,
   "id": "4a2c2730",
   "metadata": {},
   "outputs": [
    {
     "data": {
      "text/plain": [
       "[<matplotlib.lines.Line2D at 0x12b2b789130>]"
      ]
     },
     "execution_count": 218,
     "metadata": {},
     "output_type": "execute_result"
    },
    {
     "data": {
      "image/png": "[encoded data removed]",
      "text/plain": [
       "<Figure size 640x480 with 1 Axes>"
      ]
     },
     "metadata": {},
     "output_type": "display_data"
    }
   ],
   "source": [
    "y_pred = xgb.predict(X_valid)\n",
    "\n",
    "x = np.linspace(65, 90, 25)\n",
    "y = x\n",
    "\n",
    "plt.scatter(y_pred, y_valid)\n",
    "plt.plot(x, y)"
   ]
  },
  {
   "cell_type": "code",
   "execution_count": 219,
   "id": "401c8331",
   "metadata": {},
   "outputs": [
    {
     "data": {
      "text/html": [
       "<div>\n",
       "<style scoped>\n",
       "    .dataframe tbody tr th:only-of-type {\n",
       "        vertical-align: middle;\n",
       "    }\n",
       "\n",
       "    .dataframe tbody tr th {\n",
       "        vertical-align: top;\n",
       "    }\n",
       "\n",
       "    .dataframe thead th {\n",
       "        text-align: right;\n",
       "    }\n",
       "</style>\n",
       "<table border=\"1\" class=\"dataframe\">\n",
       "  <thead>\n",
       "    <tr style=\"text-align: right;\">\n",
       "      <th></th>\n",
       "      <th>Feature Importance</th>\n",
       "    </tr>\n",
       "  </thead>\n",
       "  <tbody>\n",
       "    <tr>\n",
       "      <th>Minutes Asleep</th>\n",
       "      <td>0.346840</td>\n",
       "    </tr>\n",
       "    <tr>\n",
       "      <th>Minutes Awake</th>\n",
       "      <td>0.147533</td>\n",
       "    </tr>\n",
       "    <tr>\n",
       "      <th>Minutes REM Sleep</th>\n",
       "      <td>0.406932</td>\n",
       "    </tr>\n",
       "    <tr>\n",
       "      <th>Minutes Deep Sleep</th>\n",
       "      <td>0.098696</td>\n",
       "    </tr>\n",
       "  </tbody>\n",
       "</table>\n",
       "</div>"
      ],
      "text/plain": [
       "                    Feature Importance\n",
       "Minutes Asleep                0.346840\n",
       "Minutes Awake                 0.147533\n",
       "Minutes REM Sleep             0.406932\n",
       "Minutes Deep Sleep            0.098696"
      ]
     },
     "execution_count": 219,
     "metadata": {},
     "output_type": "execute_result"
    }
   ],
   "source": [
    "xgb_feats = pd.DataFrame(xgb.feature_importances_, index=X_train.columns, columns=['Feature Importance'])\n",
    "xgb_feats"
   ]
  },
  {
   "cell_type": "markdown",
   "id": "a03971ed",
   "metadata": {},
   "source": [
    "# Hyperparameter Optimisation for Random Forest"
   ]
  },
  {
   "cell_type": "code",
   "execution_count": 233,
   "id": "0c55ab9a",
   "metadata": {},
   "outputs": [],
   "source": [
    "rf_n_estimators = [int(x) for x in np.linspace(200, 1000, 5)]\n",
    "rf_n_estimators.append(1500)\n",
    "rf_n_estimators.append(2000)\n",
    "\n",
    "rf_max_depth = [int(x) for x in np.linspace(5, 55, 11)]\n",
    "\n",
    "rf_max_depth.append(None)\n",
    "\n",
    "rf_max_features = ['auto', 'sqrt', 'log2']\n",
    "\n",
    "rf_criterion = ['mse']\n",
    "\n",
    "rf_min_samples_split = [int(x) for x in np.linspace(2, 10, 9)]\n",
    "\n",
    "rf_min_impurity_decrease = [0.0, 0.05, 0.1]\n",
    "\n",
    "rf_bootstrap = [True, False]"
   ]
  },
  {
   "cell_type": "code",
   "execution_count": 234,
   "id": "5a4f9144",
   "metadata": {},
   "outputs": [
    {
     "data": {
      "text/plain": [
       "{'n_estimators': [200, 400, 600, 800, 1000, 1500, 2000],\n",
       " 'max_depth': [5, 10, 15, 20, 25, 30, 35, 40, 45, 50, 55, None],\n",
       " 'max_features': ['auto', 'sqrt', 'log2'],\n",
       " 'criterion': ['mse'],\n",
       " 'min_samples_split': [2, 3, 4, 5, 6, 7, 8, 9, 10],\n",
       " 'min_impurity_decrease': [0.0, 0.05, 0.1],\n",
       " 'bootstrap': [True, False]}"
      ]
     },
     "execution_count": 234,
     "metadata": {},
     "output_type": "execute_result"
    }
   ],
   "source": [
    "rf_grid = {'n_estimators': rf_n_estimators,\n",
    "               'max_depth': rf_max_depth,\n",
    "               'max_features': rf_max_features,\n",
    "               'criterion': rf_criterion,\n",
    "               'min_samples_split': rf_min_samples_split,\n",
    "               'min_impurity_decrease': rf_min_impurity_decrease,\n",
    "               'bootstrap': rf_bootstrap}\n",
    "\n",
    "rf_grid"
   ]
  },
  {
   "cell_type": "code",
   "execution_count": 235,
   "id": "c86793ad",
   "metadata": {},
   "outputs": [
    {
     "name": "stdout",
     "output_type": "stream",
     "text": [
      "Fitting 3 folds for each of 200 candidates, totalling 600 fits\n"
     ]
    },
    {
     "ename": "ValueError",
     "evalue": "\nAll the 600 fits failed.\nIt is very likely that your model is misconfigured.\nYou can try to debug the error by setting error_score='raise'.\n\nBelow are more details about the failures:\n--------------------------------------------------------------------------------\n77 fits failed with the following error:\nTraceback (most recent call last):\n  File \"c:\\Users\\Admin\\AppData\\Local\\Programs\\Python\\Python38\\lib\\site-packages\\sklearn\\model_selection\\_validation.py\", line 729, in _fit_and_score\n    estimator.fit(X_train, y_train, **fit_params)\n  File \"c:\\Users\\Admin\\AppData\\Local\\Programs\\Python\\Python38\\lib\\site-packages\\sklearn\\base.py\", line 1145, in wrapper\n    estimator._validate_params()\n  File \"c:\\Users\\Admin\\AppData\\Local\\Programs\\Python\\Python38\\lib\\site-packages\\sklearn\\base.py\", line 638, in _validate_params\n    validate_parameter_constraints(\n  File \"c:\\Users\\Admin\\AppData\\Local\\Programs\\Python\\Python38\\lib\\site-packages\\sklearn\\utils\\_param_validation.py\", line 96, in validate_parameter_constraints\n    raise InvalidParameterError(\nsklearn.utils._param_validation.InvalidParameterError: The 'criterion' parameter of RandomForestRegressor must be a str among {'squared_error', 'absolute_error', 'poisson', 'friedman_mse'}. Got 'mse' instead.\n\n--------------------------------------------------------------------------------\n88 fits failed with the following error:\nTraceback (most recent call last):\n  File \"c:\\Users\\Admin\\AppData\\Local\\Programs\\Python\\Python38\\lib\\site-packages\\sklearn\\model_selection\\_validation.py\", line 729, in _fit_and_score\n    estimator.fit(X_train, y_train, **fit_params)\n  File \"c:\\Users\\Admin\\AppData\\Local\\Programs\\Python\\Python38\\lib\\site-packages\\sklearn\\base.py\", line 1145, in wrapper\n    estimator._validate_params()\n  File \"c:\\Users\\Admin\\AppData\\Local\\Programs\\Python\\Python38\\lib\\site-packages\\sklearn\\base.py\", line 638, in _validate_params\n    validate_parameter_constraints(\n  File \"c:\\Users\\Admin\\AppData\\Local\\Programs\\Python\\Python38\\lib\\site-packages\\sklearn\\utils\\_param_validation.py\", line 96, in validate_parameter_constraints\n    raise InvalidParameterError(\nsklearn.utils._param_validation.InvalidParameterError: The 'criterion' parameter of RandomForestRegressor must be a str among {'poisson', 'squared_error', 'absolute_error', 'friedman_mse'}. Got 'mse' instead.\n\n--------------------------------------------------------------------------------\n76 fits failed with the following error:\nTraceback (most recent call last):\n  File \"c:\\Users\\Admin\\AppData\\Local\\Programs\\Python\\Python38\\lib\\site-packages\\sklearn\\model_selection\\_validation.py\", line 729, in _fit_and_score\n    estimator.fit(X_train, y_train, **fit_params)\n  File \"c:\\Users\\Admin\\AppData\\Local\\Programs\\Python\\Python38\\lib\\site-packages\\sklearn\\base.py\", line 1145, in wrapper\n    estimator._validate_params()\n  File \"c:\\Users\\Admin\\AppData\\Local\\Programs\\Python\\Python38\\lib\\site-packages\\sklearn\\base.py\", line 638, in _validate_params\n    validate_parameter_constraints(\n  File \"c:\\Users\\Admin\\AppData\\Local\\Programs\\Python\\Python38\\lib\\site-packages\\sklearn\\utils\\_param_validation.py\", line 96, in validate_parameter_constraints\n    raise InvalidParameterError(\nsklearn.utils._param_validation.InvalidParameterError: The 'criterion' parameter of RandomForestRegressor must be a str among {'poisson', 'friedman_mse', 'absolute_error', 'squared_error'}. Got 'mse' instead.\n\n--------------------------------------------------------------------------------\n74 fits failed with the following error:\nTraceback (most recent call last):\n  File \"c:\\Users\\Admin\\AppData\\Local\\Programs\\Python\\Python38\\lib\\site-packages\\sklearn\\model_selection\\_validation.py\", line 729, in _fit_and_score\n    estimator.fit(X_train, y_train, **fit_params)\n  File \"c:\\Users\\Admin\\AppData\\Local\\Programs\\Python\\Python38\\lib\\site-packages\\sklearn\\base.py\", line 1145, in wrapper\n    estimator._validate_params()\n  File \"c:\\Users\\Admin\\AppData\\Local\\Programs\\Python\\Python38\\lib\\site-packages\\sklearn\\base.py\", line 638, in _validate_params\n    validate_parameter_constraints(\n  File \"c:\\Users\\Admin\\AppData\\Local\\Programs\\Python\\Python38\\lib\\site-packages\\sklearn\\utils\\_param_validation.py\", line 96, in validate_parameter_constraints\n    raise InvalidParameterError(\nsklearn.utils._param_validation.InvalidParameterError: The 'criterion' parameter of RandomForestRegressor must be a str among {'absolute_error', 'poisson', 'friedman_mse', 'squared_error'}. Got 'mse' instead.\n\n--------------------------------------------------------------------------------\n71 fits failed with the following error:\nTraceback (most recent call last):\n  File \"c:\\Users\\Admin\\AppData\\Local\\Programs\\Python\\Python38\\lib\\site-packages\\sklearn\\model_selection\\_validation.py\", line 729, in _fit_and_score\n    estimator.fit(X_train, y_train, **fit_params)\n  File \"c:\\Users\\Admin\\AppData\\Local\\Programs\\Python\\Python38\\lib\\site-packages\\sklearn\\base.py\", line 1145, in wrapper\n    estimator._validate_params()\n  File \"c:\\Users\\Admin\\AppData\\Local\\Programs\\Python\\Python38\\lib\\site-packages\\sklearn\\base.py\", line 638, in _validate_params\n    validate_parameter_constraints(\n  File \"c:\\Users\\Admin\\AppData\\Local\\Programs\\Python\\Python38\\lib\\site-packages\\sklearn\\utils\\_param_validation.py\", line 96, in validate_parameter_constraints\n    raise InvalidParameterError(\nsklearn.utils._param_validation.InvalidParameterError: The 'criterion' parameter of RandomForestRegressor must be a str among {'poisson', 'squared_error', 'friedman_mse', 'absolute_error'}. Got 'mse' instead.\n\n--------------------------------------------------------------------------------\n72 fits failed with the following error:\nTraceback (most recent call last):\n  File \"c:\\Users\\Admin\\AppData\\Local\\Programs\\Python\\Python38\\lib\\site-packages\\sklearn\\model_selection\\_validation.py\", line 729, in _fit_and_score\n    estimator.fit(X_train, y_train, **fit_params)\n  File \"c:\\Users\\Admin\\AppData\\Local\\Programs\\Python\\Python38\\lib\\site-packages\\sklearn\\base.py\", line 1145, in wrapper\n    estimator._validate_params()\n  File \"c:\\Users\\Admin\\AppData\\Local\\Programs\\Python\\Python38\\lib\\site-packages\\sklearn\\base.py\", line 638, in _validate_params\n    validate_parameter_constraints(\n  File \"c:\\Users\\Admin\\AppData\\Local\\Programs\\Python\\Python38\\lib\\site-packages\\sklearn\\utils\\_param_validation.py\", line 96, in validate_parameter_constraints\n    raise InvalidParameterError(\nsklearn.utils._param_validation.InvalidParameterError: The 'criterion' parameter of RandomForestRegressor must be a str among {'absolute_error', 'friedman_mse', 'squared_error', 'poisson'}. Got 'mse' instead.\n\n--------------------------------------------------------------------------------\n66 fits failed with the following error:\nTraceback (most recent call last):\n  File \"c:\\Users\\Admin\\AppData\\Local\\Programs\\Python\\Python38\\lib\\site-packages\\sklearn\\model_selection\\_validation.py\", line 729, in _fit_and_score\n    estimator.fit(X_train, y_train, **fit_params)\n  File \"c:\\Users\\Admin\\AppData\\Local\\Programs\\Python\\Python38\\lib\\site-packages\\sklearn\\base.py\", line 1145, in wrapper\n    estimator._validate_params()\n  File \"c:\\Users\\Admin\\AppData\\Local\\Programs\\Python\\Python38\\lib\\site-packages\\sklearn\\base.py\", line 638, in _validate_params\n    validate_parameter_constraints(\n  File \"c:\\Users\\Admin\\AppData\\Local\\Programs\\Python\\Python38\\lib\\site-packages\\sklearn\\utils\\_param_validation.py\", line 96, in validate_parameter_constraints\n    raise InvalidParameterError(\nsklearn.utils._param_validation.InvalidParameterError: The 'criterion' parameter of RandomForestRegressor must be a str among {'friedman_mse', 'squared_error', 'absolute_error', 'poisson'}. Got 'mse' instead.\n\n--------------------------------------------------------------------------------\n76 fits failed with the following error:\nTraceback (most recent call last):\n  File \"c:\\Users\\Admin\\AppData\\Local\\Programs\\Python\\Python38\\lib\\site-packages\\sklearn\\model_selection\\_validation.py\", line 729, in _fit_and_score\n    estimator.fit(X_train, y_train, **fit_params)\n  File \"c:\\Users\\Admin\\AppData\\Local\\Programs\\Python\\Python38\\lib\\site-packages\\sklearn\\base.py\", line 1145, in wrapper\n    estimator._validate_params()\n  File \"c:\\Users\\Admin\\AppData\\Local\\Programs\\Python\\Python38\\lib\\site-packages\\sklearn\\base.py\", line 638, in _validate_params\n    validate_parameter_constraints(\n  File \"c:\\Users\\Admin\\AppData\\Local\\Programs\\Python\\Python38\\lib\\site-packages\\sklearn\\utils\\_param_validation.py\", line 96, in validate_parameter_constraints\n    raise InvalidParameterError(\nsklearn.utils._param_validation.InvalidParameterError: The 'criterion' parameter of RandomForestRegressor must be a str among {'friedman_mse', 'absolute_error', 'poisson', 'squared_error'}. Got 'mse' instead.\n",
     "output_type": "error",
     "traceback": [
      "\u001b[1;31m---------------------------------------------------------------------------\u001b[0m",
      "\u001b[1;31mValueError\u001b[0m                                Traceback (most recent call last)",
      "Cell \u001b[1;32mIn[235], line 10\u001b[0m\n\u001b[0;32m      5\u001b[0m rf_random \u001b[38;5;241m=\u001b[39m RandomizedSearchCV(estimator \u001b[38;5;241m=\u001b[39m rf_base, param_distributions \u001b[38;5;241m=\u001b[39m rf_grid, \n\u001b[0;32m      6\u001b[0m                                n_iter \u001b[38;5;241m=\u001b[39m \u001b[38;5;241m200\u001b[39m, cv \u001b[38;5;241m=\u001b[39m \u001b[38;5;241m3\u001b[39m,verbose \u001b[38;5;241m=\u001b[39m \u001b[38;5;241m2\u001b[39m, random_state \u001b[38;5;241m=\u001b[39m \u001b[38;5;241m42\u001b[39m, \n\u001b[0;32m      7\u001b[0m                                n_jobs \u001b[38;5;241m=\u001b[39m \u001b[38;5;241m-\u001b[39m\u001b[38;5;241m1\u001b[39m)\n\u001b[0;32m      9\u001b[0m \u001b[38;5;66;03m# Fit the random search model\u001b[39;00m\n\u001b[1;32m---> 10\u001b[0m \u001b[43mrf_random\u001b[49m\u001b[38;5;241;43m.\u001b[39;49m\u001b[43mfit\u001b[49m\u001b[43m(\u001b[49m\u001b[43mX_train_temp\u001b[49m\u001b[43m,\u001b[49m\u001b[43m \u001b[49m\u001b[43my_train_temp\u001b[49m\u001b[43m)\u001b[49m\n",
      "File \u001b[1;32mc:\\Users\\Admin\\AppData\\Local\\Programs\\Python\\Python38\\lib\\site-packages\\sklearn\\base.py:1152\u001b[0m, in \u001b[0;36m_fit_context.<locals>.decorator.<locals>.wrapper\u001b[1;34m(estimator, *args, **kwargs)\u001b[0m\n\u001b[0;32m   1145\u001b[0m     estimator\u001b[38;5;241m.\u001b[39m_validate_params()\n\u001b[0;32m   1147\u001b[0m \u001b[38;5;28;01mwith\u001b[39;00m config_context(\n\u001b[0;32m   1148\u001b[0m     skip_parameter_validation\u001b[38;5;241m=\u001b[39m(\n\u001b[0;32m   1149\u001b[0m         prefer_skip_nested_validation \u001b[38;5;129;01mor\u001b[39;00m global_skip_validation\n\u001b[0;32m   1150\u001b[0m     )\n\u001b[0;32m   1151\u001b[0m ):\n\u001b[1;32m-> 1152\u001b[0m     \u001b[38;5;28;01mreturn\u001b[39;00m \u001b[43mfit_method\u001b[49m\u001b[43m(\u001b[49m\u001b[43mestimator\u001b[49m\u001b[43m,\u001b[49m\u001b[43m \u001b[49m\u001b[38;5;241;43m*\u001b[39;49m\u001b[43margs\u001b[49m\u001b[43m,\u001b[49m\u001b[43m \u001b[49m\u001b[38;5;241;43m*\u001b[39;49m\u001b[38;5;241;43m*\u001b[39;49m\u001b[43mkwargs\u001b[49m\u001b[43m)\u001b[49m\n",
      "File \u001b[1;32mc:\\Users\\Admin\\AppData\\Local\\Programs\\Python\\Python38\\lib\\site-packages\\sklearn\\model_selection\\_search.py:898\u001b[0m, in \u001b[0;36mBaseSearchCV.fit\u001b[1;34m(self, X, y, groups, **fit_params)\u001b[0m\n\u001b[0;32m    892\u001b[0m     results \u001b[38;5;241m=\u001b[39m \u001b[38;5;28mself\u001b[39m\u001b[38;5;241m.\u001b[39m_format_results(\n\u001b[0;32m    893\u001b[0m         all_candidate_params, n_splits, all_out, all_more_results\n\u001b[0;32m    894\u001b[0m     )\n\u001b[0;32m    896\u001b[0m     \u001b[38;5;28;01mreturn\u001b[39;00m results\n\u001b[1;32m--> 898\u001b[0m \u001b[38;5;28;43mself\u001b[39;49m\u001b[38;5;241;43m.\u001b[39;49m\u001b[43m_run_search\u001b[49m\u001b[43m(\u001b[49m\u001b[43mevaluate_candidates\u001b[49m\u001b[43m)\u001b[49m\n\u001b[0;32m    900\u001b[0m \u001b[38;5;66;03m# multimetric is determined here because in the case of a callable\u001b[39;00m\n\u001b[0;32m    901\u001b[0m \u001b[38;5;66;03m# self.scoring the return type is only known after calling\u001b[39;00m\n\u001b[0;32m    902\u001b[0m first_test_score \u001b[38;5;241m=\u001b[39m all_out[\u001b[38;5;241m0\u001b[39m][\u001b[38;5;124m\"\u001b[39m\u001b[38;5;124mtest_scores\u001b[39m\u001b[38;5;124m\"\u001b[39m]\n",
      "File \u001b[1;32mc:\\Users\\Admin\\AppData\\Local\\Programs\\Python\\Python38\\lib\\site-packages\\sklearn\\model_selection\\_search.py:1809\u001b[0m, in \u001b[0;36mRandomizedSearchCV._run_search\u001b[1;34m(self, evaluate_candidates)\u001b[0m\n\u001b[0;32m   1807\u001b[0m \u001b[38;5;28;01mdef\u001b[39;00m \u001b[38;5;21m_run_search\u001b[39m(\u001b[38;5;28mself\u001b[39m, evaluate_candidates):\n\u001b[0;32m   1808\u001b[0m \u001b[38;5;250m    \u001b[39m\u001b[38;5;124;03m\"\"\"Search n_iter candidates from param_distributions\"\"\"\u001b[39;00m\n\u001b[1;32m-> 1809\u001b[0m     \u001b[43mevaluate_candidates\u001b[49m\u001b[43m(\u001b[49m\n\u001b[0;32m   1810\u001b[0m \u001b[43m        \u001b[49m\u001b[43mParameterSampler\u001b[49m\u001b[43m(\u001b[49m\n\u001b[0;32m   1811\u001b[0m \u001b[43m            \u001b[49m\u001b[38;5;28;43mself\u001b[39;49m\u001b[38;5;241;43m.\u001b[39;49m\u001b[43mparam_distributions\u001b[49m\u001b[43m,\u001b[49m\u001b[43m \u001b[49m\u001b[38;5;28;43mself\u001b[39;49m\u001b[38;5;241;43m.\u001b[39;49m\u001b[43mn_iter\u001b[49m\u001b[43m,\u001b[49m\u001b[43m \u001b[49m\u001b[43mrandom_state\u001b[49m\u001b[38;5;241;43m=\u001b[39;49m\u001b[38;5;28;43mself\u001b[39;49m\u001b[38;5;241;43m.\u001b[39;49m\u001b[43mrandom_state\u001b[49m\n\u001b[0;32m   1812\u001b[0m \u001b[43m        \u001b[49m\u001b[43m)\u001b[49m\n\u001b[0;32m   1813\u001b[0m \u001b[43m    \u001b[49m\u001b[43m)\u001b[49m\n",
      "File \u001b[1;32mc:\\Users\\Admin\\AppData\\Local\\Programs\\Python\\Python38\\lib\\site-packages\\sklearn\\model_selection\\_search.py:875\u001b[0m, in \u001b[0;36mBaseSearchCV.fit.<locals>.evaluate_candidates\u001b[1;34m(candidate_params, cv, more_results)\u001b[0m\n\u001b[0;32m    868\u001b[0m \u001b[38;5;28;01melif\u001b[39;00m \u001b[38;5;28mlen\u001b[39m(out) \u001b[38;5;241m!=\u001b[39m n_candidates \u001b[38;5;241m*\u001b[39m n_splits:\n\u001b[0;32m    869\u001b[0m     \u001b[38;5;28;01mraise\u001b[39;00m \u001b[38;5;167;01mValueError\u001b[39;00m(\n\u001b[0;32m    870\u001b[0m         \u001b[38;5;124m\"\u001b[39m\u001b[38;5;124mcv.split and cv.get_n_splits returned \u001b[39m\u001b[38;5;124m\"\u001b[39m\n\u001b[0;32m    871\u001b[0m         \u001b[38;5;124m\"\u001b[39m\u001b[38;5;124minconsistent results. Expected \u001b[39m\u001b[38;5;132;01m{}\u001b[39;00m\u001b[38;5;124m \u001b[39m\u001b[38;5;124m\"\u001b[39m\n\u001b[0;32m    872\u001b[0m         \u001b[38;5;124m\"\u001b[39m\u001b[38;5;124msplits, got \u001b[39m\u001b[38;5;132;01m{}\u001b[39;00m\u001b[38;5;124m\"\u001b[39m\u001b[38;5;241m.\u001b[39mformat(n_splits, \u001b[38;5;28mlen\u001b[39m(out) \u001b[38;5;241m/\u001b[39m\u001b[38;5;241m/\u001b[39m n_candidates)\n\u001b[0;32m    873\u001b[0m     )\n\u001b[1;32m--> 875\u001b[0m \u001b[43m_warn_or_raise_about_fit_failures\u001b[49m\u001b[43m(\u001b[49m\u001b[43mout\u001b[49m\u001b[43m,\u001b[49m\u001b[43m \u001b[49m\u001b[38;5;28;43mself\u001b[39;49m\u001b[38;5;241;43m.\u001b[39;49m\u001b[43merror_score\u001b[49m\u001b[43m)\u001b[49m\n\u001b[0;32m    877\u001b[0m \u001b[38;5;66;03m# For callable self.scoring, the return type is only know after\u001b[39;00m\n\u001b[0;32m    878\u001b[0m \u001b[38;5;66;03m# calling. If the return type is a dictionary, the error scores\u001b[39;00m\n\u001b[0;32m    879\u001b[0m \u001b[38;5;66;03m# can now be inserted with the correct key. The type checking\u001b[39;00m\n\u001b[0;32m    880\u001b[0m \u001b[38;5;66;03m# of out will be done in `_insert_error_scores`.\u001b[39;00m\n\u001b[0;32m    881\u001b[0m \u001b[38;5;28;01mif\u001b[39;00m callable(\u001b[38;5;28mself\u001b[39m\u001b[38;5;241m.\u001b[39mscoring):\n",
      "File \u001b[1;32mc:\\Users\\Admin\\AppData\\Local\\Programs\\Python\\Python38\\lib\\site-packages\\sklearn\\model_selection\\_validation.py:414\u001b[0m, in \u001b[0;36m_warn_or_raise_about_fit_failures\u001b[1;34m(results, error_score)\u001b[0m\n\u001b[0;32m    407\u001b[0m \u001b[38;5;28;01mif\u001b[39;00m num_failed_fits \u001b[38;5;241m==\u001b[39m num_fits:\n\u001b[0;32m    408\u001b[0m     all_fits_failed_message \u001b[38;5;241m=\u001b[39m (\n\u001b[0;32m    409\u001b[0m         \u001b[38;5;124mf\u001b[39m\u001b[38;5;124m\"\u001b[39m\u001b[38;5;130;01m\\n\u001b[39;00m\u001b[38;5;124mAll the \u001b[39m\u001b[38;5;132;01m{\u001b[39;00mnum_fits\u001b[38;5;132;01m}\u001b[39;00m\u001b[38;5;124m fits failed.\u001b[39m\u001b[38;5;130;01m\\n\u001b[39;00m\u001b[38;5;124m\"\u001b[39m\n\u001b[0;32m    410\u001b[0m         \u001b[38;5;124m\"\u001b[39m\u001b[38;5;124mIt is very likely that your model is misconfigured.\u001b[39m\u001b[38;5;130;01m\\n\u001b[39;00m\u001b[38;5;124m\"\u001b[39m\n\u001b[0;32m    411\u001b[0m         \u001b[38;5;124m\"\u001b[39m\u001b[38;5;124mYou can try to debug the error by setting error_score=\u001b[39m\u001b[38;5;124m'\u001b[39m\u001b[38;5;124mraise\u001b[39m\u001b[38;5;124m'\u001b[39m\u001b[38;5;124m.\u001b[39m\u001b[38;5;130;01m\\n\u001b[39;00m\u001b[38;5;130;01m\\n\u001b[39;00m\u001b[38;5;124m\"\u001b[39m\n\u001b[0;32m    412\u001b[0m         \u001b[38;5;124mf\u001b[39m\u001b[38;5;124m\"\u001b[39m\u001b[38;5;124mBelow are more details about the failures:\u001b[39m\u001b[38;5;130;01m\\n\u001b[39;00m\u001b[38;5;132;01m{\u001b[39;00mfit_errors_summary\u001b[38;5;132;01m}\u001b[39;00m\u001b[38;5;124m\"\u001b[39m\n\u001b[0;32m    413\u001b[0m     )\n\u001b[1;32m--> 414\u001b[0m     \u001b[38;5;28;01mraise\u001b[39;00m \u001b[38;5;167;01mValueError\u001b[39;00m(all_fits_failed_message)\n\u001b[0;32m    416\u001b[0m \u001b[38;5;28;01melse\u001b[39;00m:\n\u001b[0;32m    417\u001b[0m     some_fits_failed_message \u001b[38;5;241m=\u001b[39m (\n\u001b[0;32m    418\u001b[0m         \u001b[38;5;124mf\u001b[39m\u001b[38;5;124m\"\u001b[39m\u001b[38;5;130;01m\\n\u001b[39;00m\u001b[38;5;132;01m{\u001b[39;00mnum_failed_fits\u001b[38;5;132;01m}\u001b[39;00m\u001b[38;5;124m fits failed out of a total of \u001b[39m\u001b[38;5;132;01m{\u001b[39;00mnum_fits\u001b[38;5;132;01m}\u001b[39;00m\u001b[38;5;124m.\u001b[39m\u001b[38;5;130;01m\\n\u001b[39;00m\u001b[38;5;124m\"\u001b[39m\n\u001b[0;32m    419\u001b[0m         \u001b[38;5;124m\"\u001b[39m\u001b[38;5;124mThe score on these train-test partitions for these parameters\u001b[39m\u001b[38;5;124m\"\u001b[39m\n\u001b[1;32m   (...)\u001b[0m\n\u001b[0;32m    423\u001b[0m         \u001b[38;5;124mf\u001b[39m\u001b[38;5;124m\"\u001b[39m\u001b[38;5;124mBelow are more details about the failures:\u001b[39m\u001b[38;5;130;01m\\n\u001b[39;00m\u001b[38;5;132;01m{\u001b[39;00mfit_errors_summary\u001b[38;5;132;01m}\u001b[39;00m\u001b[38;5;124m\"\u001b[39m\n\u001b[0;32m    424\u001b[0m     )\n",
      "\u001b[1;31mValueError\u001b[0m: \nAll the 600 fits failed.\nIt is very likely that your model is misconfigured.\nYou can try to debug the error by setting error_score='raise'.\n\nBelow are more details about the failures:\n--------------------------------------------------------------------------------\n77 fits failed with the following error:\nTraceback (most recent call last):\n  File \"c:\\Users\\Admin\\AppData\\Local\\Programs\\Python\\Python38\\lib\\site-packages\\sklearn\\model_selection\\_validation.py\", line 729, in _fit_and_score\n    estimator.fit(X_train, y_train, **fit_params)\n  File \"c:\\Users\\Admin\\AppData\\Local\\Programs\\Python\\Python38\\lib\\site-packages\\sklearn\\base.py\", line 1145, in wrapper\n    estimator._validate_params()\n  File \"c:\\Users\\Admin\\AppData\\Local\\Programs\\Python\\Python38\\lib\\site-packages\\sklearn\\base.py\", line 638, in _validate_params\n    validate_parameter_constraints(\n  File \"c:\\Users\\Admin\\AppData\\Local\\Programs\\Python\\Python38\\lib\\site-packages\\sklearn\\utils\\_param_validation.py\", line 96, in validate_parameter_constraints\n    raise InvalidParameterError(\nsklearn.utils._param_validation.InvalidParameterError: The 'criterion' parameter of RandomForestRegressor must be a str among {'squared_error', 'absolute_error', 'poisson', 'friedman_mse'}. Got 'mse' instead.\n\n--------------------------------------------------------------------------------\n88 fits failed with the following error:\nTraceback (most recent call last):\n  File \"c:\\Users\\Admin\\AppData\\Local\\Programs\\Python\\Python38\\lib\\site-packages\\sklearn\\model_selection\\_validation.py\", line 729, in _fit_and_score\n    estimator.fit(X_train, y_train, **fit_params)\n  File \"c:\\Users\\Admin\\AppData\\Local\\Programs\\Python\\Python38\\lib\\site-packages\\sklearn\\base.py\", line 1145, in wrapper\n    estimator._validate_params()\n  File \"c:\\Users\\Admin\\AppData\\Local\\Programs\\Python\\Python38\\lib\\site-packages\\sklearn\\base.py\", line 638, in _validate_params\n    validate_parameter_constraints(\n  File \"c:\\Users\\Admin\\AppData\\Local\\Programs\\Python\\Python38\\lib\\site-packages\\sklearn\\utils\\_param_validation.py\", line 96, in validate_parameter_constraints\n    raise InvalidParameterError(\nsklearn.utils._param_validation.InvalidParameterError: The 'criterion' parameter of RandomForestRegressor must be a str among {'poisson', 'squared_error', 'absolute_error', 'friedman_mse'}. Got 'mse' instead.\n\n--------------------------------------------------------------------------------\n76 fits failed with the following error:\nTraceback (most recent call last):\n  File \"c:\\Users\\Admin\\AppData\\Local\\Programs\\Python\\Python38\\lib\\site-packages\\sklearn\\model_selection\\_validation.py\", line 729, in _fit_and_score\n    estimator.fit(X_train, y_train, **fit_params)\n  File \"c:\\Users\\Admin\\AppData\\Local\\Programs\\Python\\Python38\\lib\\site-packages\\sklearn\\base.py\", line 1145, in wrapper\n    estimator._validate_params()\n  File \"c:\\Users\\Admin\\AppData\\Local\\Programs\\Python\\Python38\\lib\\site-packages\\sklearn\\base.py\", line 638, in _validate_params\n    validate_parameter_constraints(\n  File \"c:\\Users\\Admin\\AppData\\Local\\Programs\\Python\\Python38\\lib\\site-packages\\sklearn\\utils\\_param_validation.py\", line 96, in validate_parameter_constraints\n    raise InvalidParameterError(\nsklearn.utils._param_validation.InvalidParameterError: The 'criterion' parameter of RandomForestRegressor must be a str among {'poisson', 'friedman_mse', 'absolute_error', 'squared_error'}. Got 'mse' instead.\n\n--------------------------------------------------------------------------------\n74 fits failed with the following error:\nTraceback (most recent call last):\n  File \"c:\\Users\\Admin\\AppData\\Local\\Programs\\Python\\Python38\\lib\\site-packages\\sklearn\\model_selection\\_validation.py\", line 729, in _fit_and_score\n    estimator.fit(X_train, y_train, **fit_params)\n  File \"c:\\Users\\Admin\\AppData\\Local\\Programs\\Python\\Python38\\lib\\site-packages\\sklearn\\base.py\", line 1145, in wrapper\n    estimator._validate_params()\n  File \"c:\\Users\\Admin\\AppData\\Local\\Programs\\Python\\Python38\\lib\\site-packages\\sklearn\\base.py\", line 638, in _validate_params\n    validate_parameter_constraints(\n  File \"c:\\Users\\Admin\\AppData\\Local\\Programs\\Python\\Python38\\lib\\site-packages\\sklearn\\utils\\_param_validation.py\", line 96, in validate_parameter_constraints\n    raise InvalidParameterError(\nsklearn.utils._param_validation.InvalidParameterError: The 'criterion' parameter of RandomForestRegressor must be a str among {'absolute_error', 'poisson', 'friedman_mse', 'squared_error'}. Got 'mse' instead.\n\n--------------------------------------------------------------------------------\n71 fits failed with the following error:\nTraceback (most recent call last):\n  File \"c:\\Users\\Admin\\AppData\\Local\\Programs\\Python\\Python38\\lib\\site-packages\\sklearn\\model_selection\\_validation.py\", line 729, in _fit_and_score\n    estimator.fit(X_train, y_train, **fit_params)\n  File \"c:\\Users\\Admin\\AppData\\Local\\Programs\\Python\\Python38\\lib\\site-packages\\sklearn\\base.py\", line 1145, in wrapper\n    estimator._validate_params()\n  File \"c:\\Users\\Admin\\AppData\\Local\\Programs\\Python\\Python38\\lib\\site-packages\\sklearn\\base.py\", line 638, in _validate_params\n    validate_parameter_constraints(\n  File \"c:\\Users\\Admin\\AppData\\Local\\Programs\\Python\\Python38\\lib\\site-packages\\sklearn\\utils\\_param_validation.py\", line 96, in validate_parameter_constraints\n    raise InvalidParameterError(\nsklearn.utils._param_validation.InvalidParameterError: The 'criterion' parameter of RandomForestRegressor must be a str among {'poisson', 'squared_error', 'friedman_mse', 'absolute_error'}. Got 'mse' instead.\n\n--------------------------------------------------------------------------------\n72 fits failed with the following error:\nTraceback (most recent call last):\n  File \"c:\\Users\\Admin\\AppData\\Local\\Programs\\Python\\Python38\\lib\\site-packages\\sklearn\\model_selection\\_validation.py\", line 729, in _fit_and_score\n    estimator.fit(X_train, y_train, **fit_params)\n  File \"c:\\Users\\Admin\\AppData\\Local\\Programs\\Python\\Python38\\lib\\site-packages\\sklearn\\base.py\", line 1145, in wrapper\n    estimator._validate_params()\n  File \"c:\\Users\\Admin\\AppData\\Local\\Programs\\Python\\Python38\\lib\\site-packages\\sklearn\\base.py\", line 638, in _validate_params\n    validate_parameter_constraints(\n  File \"c:\\Users\\Admin\\AppData\\Local\\Programs\\Python\\Python38\\lib\\site-packages\\sklearn\\utils\\_param_validation.py\", line 96, in validate_parameter_constraints\n    raise InvalidParameterError(\nsklearn.utils._param_validation.InvalidParameterError: The 'criterion' parameter of RandomForestRegressor must be a str among {'absolute_error', 'friedman_mse', 'squared_error', 'poisson'}. Got 'mse' instead.\n\n--------------------------------------------------------------------------------\n66 fits failed with the following error:\nTraceback (most recent call last):\n  File \"c:\\Users\\Admin\\AppData\\Local\\Programs\\Python\\Python38\\lib\\site-packages\\sklearn\\model_selection\\_validation.py\", line 729, in _fit_and_score\n    estimator.fit(X_train, y_train, **fit_params)\n  File \"c:\\Users\\Admin\\AppData\\Local\\Programs\\Python\\Python38\\lib\\site-packages\\sklearn\\base.py\", line 1145, in wrapper\n    estimator._validate_params()\n  File \"c:\\Users\\Admin\\AppData\\Local\\Programs\\Python\\Python38\\lib\\site-packages\\sklearn\\base.py\", line 638, in _validate_params\n    validate_parameter_constraints(\n  File \"c:\\Users\\Admin\\AppData\\Local\\Programs\\Python\\Python38\\lib\\site-packages\\sklearn\\utils\\_param_validation.py\", line 96, in validate_parameter_constraints\n    raise InvalidParameterError(\nsklearn.utils._param_validation.InvalidParameterError: The 'criterion' parameter of RandomForestRegressor must be a str among {'friedman_mse', 'squared_error', 'absolute_error', 'poisson'}. Got 'mse' instead.\n\n--------------------------------------------------------------------------------\n76 fits failed with the following error:\nTraceback (most recent call last):\n  File \"c:\\Users\\Admin\\AppData\\Local\\Programs\\Python\\Python38\\lib\\site-packages\\sklearn\\model_selection\\_validation.py\", line 729, in _fit_and_score\n    estimator.fit(X_train, y_train, **fit_params)\n  File \"c:\\Users\\Admin\\AppData\\Local\\Programs\\Python\\Python38\\lib\\site-packages\\sklearn\\base.py\", line 1145, in wrapper\n    estimator._validate_params()\n  File \"c:\\Users\\Admin\\AppData\\Local\\Programs\\Python\\Python38\\lib\\site-packages\\sklearn\\base.py\", line 638, in _validate_params\n    validate_parameter_constraints(\n  File \"c:\\Users\\Admin\\AppData\\Local\\Programs\\Python\\Python38\\lib\\site-packages\\sklearn\\utils\\_param_validation.py\", line 96, in validate_parameter_constraints\n    raise InvalidParameterError(\nsklearn.utils._param_validation.InvalidParameterError: The 'criterion' parameter of RandomForestRegressor must be a str among {'friedman_mse', 'absolute_error', 'poisson', 'squared_error'}. Got 'mse' instead.\n"
     ]
    }
   ],
   "source": [
    "from sklearn.model_selection import RandomizedSearchCV\n",
    "\n",
    "rf_base = RandomForestRegressor()\n",
    "\n",
    "rf_random = RandomizedSearchCV(estimator = rf_base, param_distributions = rf_grid, \n",
    "                               n_iter = 200, cv = 3,verbose = 2, random_state = 42, \n",
    "                               n_jobs = -1)\n",
    "\n",
    "# Fit the random search model\n",
    "rf_random.fit(X_train_temp, y_train_temp)"
   ]
  },
  {
   "cell_type": "markdown",
   "id": "1769ab08",
   "metadata": {},
   "source": [
    "# Cross-Validation"
   ]
  },
  {
   "cell_type": "code",
   "execution_count": 220,
   "id": "246b40b8",
   "metadata": {},
   "outputs": [],
   "source": [
    "mlr_reg = LinearRegression()\n",
    "rf_reg = RandomForestRegressor(random_state=42)\n",
    "xgb_reg = xgb_regressor = XGBRegressor(random_state=42)"
   ]
  },
  {
   "cell_type": "code",
   "execution_count": 221,
   "id": "dfb46a58",
   "metadata": {},
   "outputs": [],
   "source": [
    "models = [mlr_reg, rf_reg, xgb_reg]"
   ]
  },
  {
   "cell_type": "code",
   "execution_count": 222,
   "id": "4f7014a8",
   "metadata": {},
   "outputs": [],
   "source": [
    "def cv_comparison(models, X, y, cv):\n",
    "    \n",
    "    cv_accuracies = pd.DataFrame()\n",
    "    maes = []\n",
    "    mses = []\n",
    "    r2s = []\n",
    "    accs = []\n",
    "   \n",
    "    for model in models:\n",
    "        mae = -np.round(cross_val_score(model, X, y, scoring='neg_mean_absolute_error', cv=cv), 4)\n",
    "        maes.append(mae)\n",
    "        mae_avg = round(mae.mean(), 4)\n",
    "        mse = -np.round(cross_val_score(model, X, y, scoring='neg_mean_squared_error', cv=cv), 4)\n",
    "        mses.append(mse)\n",
    "        mse_avg = round(mse.mean(), 4)\n",
    "        r2 = np.round(cross_val_score(model, X, y, scoring='r2', cv=cv), 4)\n",
    "        r2s.append(r2)\n",
    "        r2_avg = round(r2.mean(), 4)\n",
    "        acc = np.round((100 - (100 * (mae * len(X))) / sum(y)), 4)\n",
    "        accs.append(acc)\n",
    "        acc_avg = round(acc.mean(), 4)\n",
    "        cv_accuracies[str(model)] = [mae_avg, mse_avg, r2_avg, acc_avg]\n",
    "    cv_accuracies.index = ['Mean Absolute Error', 'Mean Squared Error', 'R^2', 'Accuracy']\n",
    "    return cv_accuracies, maes, mses, r2s, accs"
   ]
  },
  {
   "cell_type": "code",
   "execution_count": 223,
   "id": "5397c8db",
   "metadata": {},
   "outputs": [],
   "source": [
    "from sklearn.model_selection import cross_val_score\n",
    "comp, maes, mses, r2s, accs = cv_comparison(models, X_train_temp, y_train_temp, 4)"
   ]
  },
  {
   "cell_type": "code",
   "execution_count": 224,
   "id": "79448f45",
   "metadata": {},
   "outputs": [
    {
     "data": {
      "text/html": [
       "<div>\n",
       "<style scoped>\n",
       "    .dataframe tbody tr th:only-of-type {\n",
       "        vertical-align: middle;\n",
       "    }\n",
       "\n",
       "    .dataframe tbody tr th {\n",
       "        vertical-align: top;\n",
       "    }\n",
       "\n",
       "    .dataframe thead th {\n",
       "        text-align: right;\n",
       "    }\n",
       "</style>\n",
       "<table border=\"1\" class=\"dataframe\">\n",
       "  <thead>\n",
       "    <tr style=\"text-align: right;\">\n",
       "      <th></th>\n",
       "      <th>Multiple Linear Regression</th>\n",
       "      <th>Random Forest</th>\n",
       "      <th>Extreme Gradient Boosting</th>\n",
       "    </tr>\n",
       "  </thead>\n",
       "  <tbody>\n",
       "    <tr>\n",
       "      <th>Mean Absolute Error</th>\n",
       "      <td>2.2869</td>\n",
       "      <td>2.1735</td>\n",
       "      <td>2.3713</td>\n",
       "    </tr>\n",
       "    <tr>\n",
       "      <th>Mean Squared Error</th>\n",
       "      <td>8.3989</td>\n",
       "      <td>7.8714</td>\n",
       "      <td>9.9675</td>\n",
       "    </tr>\n",
       "    <tr>\n",
       "      <th>R^2</th>\n",
       "      <td>0.6882</td>\n",
       "      <td>0.7011</td>\n",
       "      <td>0.6190</td>\n",
       "    </tr>\n",
       "    <tr>\n",
       "      <th>Accuracy</th>\n",
       "      <td>97.1982</td>\n",
       "      <td>97.3371</td>\n",
       "      <td>97.0948</td>\n",
       "    </tr>\n",
       "  </tbody>\n",
       "</table>\n",
       "</div>"
      ],
      "text/plain": [
       "                     Multiple Linear Regression  Random Forest  \\\n",
       "Mean Absolute Error                      2.2869         2.1735   \n",
       "Mean Squared Error                       8.3989         7.8714   \n",
       "R^2                                      0.6882         0.7011   \n",
       "Accuracy                                97.1982        97.3371   \n",
       "\n",
       "                     Extreme Gradient Boosting  \n",
       "Mean Absolute Error                     2.3713  \n",
       "Mean Squared Error                      9.9675  \n",
       "R^2                                     0.6190  \n",
       "Accuracy                               97.0948  "
      ]
     },
     "execution_count": 224,
     "metadata": {},
     "output_type": "execute_result"
    }
   ],
   "source": [
    "comp.columns = ['Multiple Linear Regression', 'Random Forest', 'Extreme Gradient Boosting']\n",
    "comp"
   ]
  },
  {
   "cell_type": "markdown",
   "id": "efc52652",
   "metadata": {},
   "source": [
    "# Using the test data"
   ]
  },
  {
   "cell_type": "code",
   "execution_count": 225,
   "id": "c34efbe8",
   "metadata": {},
   "outputs": [],
   "source": [
    "mlr_final = LinearRegression()\n",
    "rf_final = RandomForestRegressor(n_estimators = 200,min_samples_split = 6,min_impurity_decrease = 0.0,max_features = 'sqrt',max_depth = 25,criterion = 'absolute_error',bootstrap = True,random_state = 42)\n",
    "xgb_final = XGBRegressor(tree_method = 'exact',objective = 'reg:squarederror',n_estimators = 1600,min_child_weight = 6,max_depth = 8,gamma = 0,eta = 0.1,random_state = 42)"
   ]
  },
  {
   "cell_type": "code",
   "execution_count": 226,
   "id": "426a5260",
   "metadata": {},
   "outputs": [
    {
     "data": {
      "text/html": [
       "<style>#sk-container-id-9 {color: black;}#sk-container-id-9 pre{padding: 0;}#sk-container-id-9 div.sk-toggleable {background-color: white;}#sk-container-id-9 label.sk-toggleable__label {cursor: pointer;display: block;width: 100%;margin-bottom: 0;padding: 0.3em;box-sizing: border-box;text-align: center;}#sk-container-id-9 label.sk-toggleable__label-arrow:before {content: \"▸\";float: left;margin-right: 0.25em;color: #696969;}#sk-container-id-9 label.sk-toggleable__label-arrow:hover:before {color: black;}#sk-container-id-9 div.sk-estimator:hover label.sk-toggleable__label-arrow:before {color: black;}#sk-container-id-9 div.sk-toggleable__content {max-height: 0;max-width: 0;overflow: hidden;text-align: left;background-color: #f0f8ff;}#sk-container-id-9 div.sk-toggleable__content pre {margin: 0.2em;color: black;border-radius: 0.25em;background-color: #f0f8ff;}#sk-container-id-9 input.sk-toggleable__control:checked~div.sk-toggleable__content {max-height: 200px;max-width: 100%;overflow: auto;}#sk-container-id-9 input.sk-toggleable__control:checked~label.sk-toggleable__label-arrow:before {content: \"▾\";}#sk-container-id-9 div.sk-estimator input.sk-toggleable__control:checked~label.sk-toggleable__label {background-color: #d4ebff;}#sk-container-id-9 div.sk-label input.sk-toggleable__control:checked~label.sk-toggleable__label {background-color: #d4ebff;}#sk-container-id-9 input.sk-hidden--visually {border: 0;clip: rect(1px 1px 1px 1px);clip: rect(1px, 1px, 1px, 1px);height: 1px;margin: -1px;overflow: hidden;padding: 0;position: absolute;width: 1px;}#sk-container-id-9 div.sk-estimator {font-family: monospace;background-color: #f0f8ff;border: 1px dotted black;border-radius: 0.25em;box-sizing: border-box;margin-bottom: 0.5em;}#sk-container-id-9 div.sk-estimator:hover {background-color: #d4ebff;}#sk-container-id-9 div.sk-parallel-item::after {content: \"\";width: 100%;border-bottom: 1px solid gray;flex-grow: 1;}#sk-container-id-9 div.sk-label:hover label.sk-toggleable__label {background-color: #d4ebff;}#sk-container-id-9 div.sk-serial::before {content: \"\";position: absolute;border-left: 1px solid gray;box-sizing: border-box;top: 0;bottom: 0;left: 50%;z-index: 0;}#sk-container-id-9 div.sk-serial {display: flex;flex-direction: column;align-items: center;background-color: white;padding-right: 0.2em;padding-left: 0.2em;position: relative;}#sk-container-id-9 div.sk-item {position: relative;z-index: 1;}#sk-container-id-9 div.sk-parallel {display: flex;align-items: stretch;justify-content: center;background-color: white;position: relative;}#sk-container-id-9 div.sk-item::before, #sk-container-id-9 div.sk-parallel-item::before {content: \"\";position: absolute;border-left: 1px solid gray;box-sizing: border-box;top: 0;bottom: 0;left: 50%;z-index: -1;}#sk-container-id-9 div.sk-parallel-item {display: flex;flex-direction: column;z-index: 1;position: relative;background-color: white;}#sk-container-id-9 div.sk-parallel-item:first-child::after {align-self: flex-end;width: 50%;}#sk-container-id-9 div.sk-parallel-item:last-child::after {align-self: flex-start;width: 50%;}#sk-container-id-9 div.sk-parallel-item:only-child::after {width: 0;}#sk-container-id-9 div.sk-dashed-wrapped {border: 1px dashed gray;margin: 0 0.4em 0.5em 0.4em;box-sizing: border-box;padding-bottom: 0.4em;background-color: white;}#sk-container-id-9 div.sk-label label {font-family: monospace;font-weight: bold;display: inline-block;line-height: 1.2em;}#sk-container-id-9 div.sk-label-container {text-align: center;}#sk-container-id-9 div.sk-container {/* jupyter's `normalize.less` sets `[hidden] { display: none; }` but bootstrap.min.css set `[hidden] { display: none !important; }` so we also need the `!important` here to be able to override the default hidden behavior on the sphinx rendered scikit-learn.org. See: https://github.com/scikit-learn/scikit-learn/issues/21755 */display: inline-block !important;position: relative;}#sk-container-id-9 div.sk-text-repr-fallback {display: none;}</style><div id=\"sk-container-id-9\" class=\"sk-top-container\"><div class=\"sk-text-repr-fallback\"><pre>XGBRegressor(base_score=None, booster=None, callbacks=None,\n",
       "             colsample_bylevel=None, colsample_bynode=None,\n",
       "             colsample_bytree=None, device=None, early_stopping_rounds=None,\n",
       "             enable_categorical=False, eta=0.1, eval_metric=None,\n",
       "             feature_types=None, gamma=0, grow_policy=None,\n",
       "             importance_type=None, interaction_constraints=None,\n",
       "             learning_rate=None, max_bin=None, max_cat_threshold=None,\n",
       "             max_cat_to_onehot=None, max_delta_step=None, max_depth=8,\n",
       "             max_leaves=None, min_child_weight=6, missing=nan,\n",
       "             monotone_constraints=None, multi_strategy=None, n_estimators=1600,\n",
       "             n_jobs=None, num_parallel_tree=None, ...)</pre><b>In a Jupyter environment, please rerun this cell to show the HTML representation or trust the notebook. <br />On GitHub, the HTML representation is unable to render, please try loading this page with nbviewer.org.</b></div><div class=\"sk-container\" hidden><div class=\"sk-item\"><div class=\"sk-estimator sk-toggleable\"><input class=\"sk-toggleable__control sk-hidden--visually\" id=\"sk-estimator-id-9\" type=\"checkbox\" checked><label for=\"sk-estimator-id-9\" class=\"sk-toggleable__label sk-toggleable__label-arrow\">XGBRegressor</label><div class=\"sk-toggleable__content\"><pre>XGBRegressor(base_score=None, booster=None, callbacks=None,\n",
       "             colsample_bylevel=None, colsample_bynode=None,\n",
       "             colsample_bytree=None, device=None, early_stopping_rounds=None,\n",
       "             enable_categorical=False, eta=0.1, eval_metric=None,\n",
       "             feature_types=None, gamma=0, grow_policy=None,\n",
       "             importance_type=None, interaction_constraints=None,\n",
       "             learning_rate=None, max_bin=None, max_cat_threshold=None,\n",
       "             max_cat_to_onehot=None, max_delta_step=None, max_depth=8,\n",
       "             max_leaves=None, min_child_weight=6, missing=nan,\n",
       "             monotone_constraints=None, multi_strategy=None, n_estimators=1600,\n",
       "             n_jobs=None, num_parallel_tree=None, ...)</pre></div></div></div></div></div>"
      ],
      "text/plain": [
       "XGBRegressor(base_score=None, booster=None, callbacks=None,\n",
       "             colsample_bylevel=None, colsample_bynode=None,\n",
       "             colsample_bytree=None, device=None, early_stopping_rounds=None,\n",
       "             enable_categorical=False, eta=0.1, eval_metric=None,\n",
       "             feature_types=None, gamma=0, grow_policy=None,\n",
       "             importance_type=None, interaction_constraints=None,\n",
       "             learning_rate=None, max_bin=None, max_cat_threshold=None,\n",
       "             max_cat_to_onehot=None, max_delta_step=None, max_depth=8,\n",
       "             max_leaves=None, min_child_weight=6, missing=nan,\n",
       "             monotone_constraints=None, multi_strategy=None, n_estimators=1600,\n",
       "             n_jobs=None, num_parallel_tree=None, ...)"
      ]
     },
     "execution_count": 226,
     "metadata": {},
     "output_type": "execute_result"
    }
   ],
   "source": [
    "mlr_final.fit(X_train_temp, y_train_temp)\n",
    "rf_final.fit(X_train_temp, y_train_temp)\n",
    "xgb_final.fit(X_train_temp, y_train_temp)"
   ]
  },
  {
   "cell_type": "code",
   "execution_count": 227,
   "id": "5d9e4805",
   "metadata": {},
   "outputs": [],
   "source": [
    "def final_comparison(models, test_features, test_labels):\n",
    "    scores = pd.DataFrame()\n",
    "    for model in models:\n",
    "        predictions = model.predict(test_features)\n",
    "        mae = round(mean_absolute_error(test_labels, predictions), 4)\n",
    "        mse = round(mean_squared_error(test_labels, predictions), 4)\n",
    "        r2 = round(r2_score(test_labels, predictions), 4)\n",
    "        errors = abs(predictions - test_labels)\n",
    "        mape = 100 * np.mean(errors / test_labels)\n",
    "        accuracy = round(100 - mape, 4)\n",
    "        scores[str(model)] = [mae, mse, r2, accuracy]\n",
    "    scores.index = ['Mean Absolute Error', 'Mean Squared Error', 'R^2', 'Accuracy']\n",
    "    return scores"
   ]
  },
  {
   "cell_type": "code",
   "execution_count": 228,
   "id": "50b615cc",
   "metadata": {},
   "outputs": [
    {
     "data": {
      "text/html": [
       "<div>\n",
       "<style scoped>\n",
       "    .dataframe tbody tr th:only-of-type {\n",
       "        vertical-align: middle;\n",
       "    }\n",
       "\n",
       "    .dataframe tbody tr th {\n",
       "        vertical-align: top;\n",
       "    }\n",
       "\n",
       "    .dataframe thead th {\n",
       "        text-align: right;\n",
       "    }\n",
       "</style>\n",
       "<table border=\"1\" class=\"dataframe\">\n",
       "  <thead>\n",
       "    <tr style=\"text-align: right;\">\n",
       "      <th></th>\n",
       "      <th>Linear Regression</th>\n",
       "      <th>Random Forest</th>\n",
       "      <th>Extreme Gradient Boosting</th>\n",
       "    </tr>\n",
       "  </thead>\n",
       "  <tbody>\n",
       "    <tr>\n",
       "      <th>Mean Absolute Error</th>\n",
       "      <td>1.9623</td>\n",
       "      <td>1.9289</td>\n",
       "      <td>2.2042</td>\n",
       "    </tr>\n",
       "    <tr>\n",
       "      <th>Mean Squared Error</th>\n",
       "      <td>6.4451</td>\n",
       "      <td>6.0976</td>\n",
       "      <td>9.0791</td>\n",
       "    </tr>\n",
       "    <tr>\n",
       "      <th>R^2</th>\n",
       "      <td>0.7888</td>\n",
       "      <td>0.8002</td>\n",
       "      <td>0.7025</td>\n",
       "    </tr>\n",
       "    <tr>\n",
       "      <th>Accuracy</th>\n",
       "      <td>97.5790</td>\n",
       "      <td>97.6145</td>\n",
       "      <td>97.2408</td>\n",
       "    </tr>\n",
       "  </tbody>\n",
       "</table>\n",
       "</div>"
      ],
      "text/plain": [
       "                     Linear Regression  Random Forest  \\\n",
       "Mean Absolute Error             1.9623         1.9289   \n",
       "Mean Squared Error              6.4451         6.0976   \n",
       "R^2                             0.7888         0.8002   \n",
       "Accuracy                       97.5790        97.6145   \n",
       "\n",
       "                     Extreme Gradient Boosting  \n",
       "Mean Absolute Error                     2.2042  \n",
       "Mean Squared Error                      9.0791  \n",
       "R^2                                     0.7025  \n",
       "Accuracy                               97.2408  "
      ]
     },
     "execution_count": 228,
     "metadata": {},
     "output_type": "execute_result"
    }
   ],
   "source": [
    "final_scores = final_comparison([mlr_final, rf_final, xgb_final], X_test, y_test)\n",
    "final_scores.columns  = ['Linear Regression', 'Random Forest', 'Extreme Gradient Boosting']\n",
    "final_scores"
   ]
  },
  {
   "cell_type": "code",
   "execution_count": null,
   "id": "d1dc8e34",
   "metadata": {},
   "outputs": [],
   "source": []
  }
 ],
 "metadata": {
  "kernelspec": {
   "display_name": "Python 3 (ipykernel)",
   "language": "python",
   "name": "python3"
  },
  "language_info": {
   "codemirror_mode": {
    "name": "ipython",
    "version": 3
   },
   "file_extension": ".py",
   "mimetype": "text/x-python",
   "name": "python",
   "nbconvert_exporter": "python",
   "pygments_lexer": "ipython3",
   "version": "3.8.6"
  }
 },
 "nbformat": 4,
 "nbformat_minor": 5
}
